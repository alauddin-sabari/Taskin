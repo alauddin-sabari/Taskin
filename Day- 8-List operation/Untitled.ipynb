{
 "cells": [
  {
   "cell_type": "code",
   "execution_count": 1,
   "id": "293e835b-0d54-4540-87b7-f24c0bc58dda",
   "metadata": {},
   "outputs": [
    {
     "data": {
      "text/plain": [
       "['banana', 'cherry']"
      ]
     },
     "execution_count": 1,
     "metadata": {},
     "output_type": "execute_result"
    }
   ],
   "source": [
    "fruits = [ 'banana', 'cherry']\n",
    "fruits"
   ]
  },
  {
   "cell_type": "markdown",
   "id": "d981e06f-4c10-4da8-aa68-2ffd48ac9058",
   "metadata": {},
   "source": [
    "# Adding an item to the list"
   ]
  },
  {
   "cell_type": "code",
   "execution_count": 3,
   "id": "b3736935-4d51-4133-8e4a-0133b0c6e57c",
   "metadata": {},
   "outputs": [],
   "source": [
    "fruits.append('orange')"
   ]
  },
  {
   "cell_type": "code",
   "execution_count": 5,
   "id": "d49a2174-8f00-4d49-8385-a23354b06ede",
   "metadata": {},
   "outputs": [
    {
     "data": {
      "text/plain": [
       "['banana', 'cherry', 'orange']"
      ]
     },
     "execution_count": 5,
     "metadata": {},
     "output_type": "execute_result"
    }
   ],
   "source": [
    "fruits"
   ]
  },
  {
   "cell_type": "markdown",
   "id": "ddf92fc8-77e9-4514-814d-0dd365c92242",
   "metadata": {},
   "source": [
    "# Remove an item from the list"
   ]
  },
  {
   "cell_type": "code",
   "execution_count": 7,
   "id": "d591bbb2-be46-40ac-bab0-c0cbbb1a8d81",
   "metadata": {},
   "outputs": [],
   "source": [
    "fruits.remove('cherry')"
   ]
  },
  {
   "cell_type": "code",
   "execution_count": 9,
   "id": "3e0d77fe-f48e-4e3f-8588-795857742c22",
   "metadata": {},
   "outputs": [
    {
     "data": {
      "text/plain": [
       "['banana', 'orange']"
      ]
     },
     "execution_count": 9,
     "metadata": {},
     "output_type": "execute_result"
    }
   ],
   "source": [
    "fruits"
   ]
  },
  {
   "cell_type": "markdown",
   "id": "6d55af4a-2975-4634-be8c-36dbb3072eb1",
   "metadata": {},
   "source": [
    "# Problem thinking\n",
    "- adding a visited contry to the list and remove a country last year visited list and search a country from visited list and try to find the country you visited more than one year ago"
   ]
  },
  {
   "cell_type": "code",
   "execution_count": 2,
   "id": "c8997e0a-41af-4f50-adbf-948303a63cc9",
   "metadata": {},
   "outputs": [],
   "source": [
    "visited=['moroco','italy','france','spain','england','wales']\n",
    "old_visited=['bangladesh','ireland','west africa','east africa','north africa']\n",
    "def country_l():\n",
    "    print(visited)\n",
    "    recent=input('what country did you go this year')\n",
    "    visited.append(recent)\n",
    "    print(visited)\n",
    "    print(old_visited)\n",
    "    not_recent=input('what country did you go this year')\n",
    "    old_visited.remove(not_recent)"
   ]
  },
  {
   "cell_type": "code",
   "execution_count": null,
   "id": "c0617675-30dd-48db-acd0-b5aeb22c7900",
   "metadata": {},
   "outputs": [
    {
     "name": "stdout",
     "output_type": "stream",
     "text": [
      "['moroco', 'italy', 'france', 'spain', 'england', 'wales']\n"
     ]
    }
   ],
   "source": [
    "country_l()"
   ]
  },
  {
   "cell_type": "code",
   "execution_count": null,
   "id": "4e3ec717-7d0d-4152-95c7-137ce9a85eac",
   "metadata": {},
   "outputs": [],
   "source": []
  }
 ],
 "metadata": {
  "kernelspec": {
   "display_name": "Python 3 (ipykernel)",
   "language": "python",
   "name": "python3"
  },
  "language_info": {
   "codemirror_mode": {
    "name": "ipython",
    "version": 3
   },
   "file_extension": ".py",
   "mimetype": "text/x-python",
   "name": "python",
   "nbconvert_exporter": "python",
   "pygments_lexer": "ipython3",
   "version": "3.12.4"
  }
 },
 "nbformat": 4,
 "nbformat_minor": 5
}
