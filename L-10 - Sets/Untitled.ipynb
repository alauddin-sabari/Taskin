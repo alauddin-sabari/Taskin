{
 "cells": [
  {
   "cell_type": "code",
   "execution_count": null,
   "id": "549dbfe0-7c09-4b8b-8026-b81a10ce50df",
   "metadata": {},
   "outputs": [],
   "source": [
    "list  []\n",
    "set   {}  -- u"
   ]
  },
  {
   "cell_type": "code",
   "execution_count": 1,
   "id": "44205927-11f6-489c-b265-f236650a6311",
   "metadata": {},
   "outputs": [],
   "source": [
    "Choice_list = ['Math', 'physics', 'chemistry', 'physics']"
   ]
  },
  {
   "cell_type": "code",
   "execution_count": 5,
   "id": "f93e3ed7-9485-46a0-8c0a-2abfeea073d6",
   "metadata": {},
   "outputs": [
    {
     "data": {
      "text/plain": [
       "list"
      ]
     },
     "execution_count": 5,
     "metadata": {},
     "output_type": "execute_result"
    }
   ],
   "source": [
    "type(Choice_list)"
   ]
  },
  {
   "cell_type": "code",
   "execution_count": 3,
   "id": "be6eecef-9712-4cb7-b243-21879085419b",
   "metadata": {},
   "outputs": [
    {
     "data": {
      "text/plain": [
       "['Math', 'physics', 'chemistry', 'physics']"
      ]
     },
     "execution_count": 3,
     "metadata": {},
     "output_type": "execute_result"
    }
   ],
   "source": [
    "Choice_list"
   ]
  },
  {
   "cell_type": "code",
   "execution_count": 7,
   "id": "b13c683c-31d8-49cb-8b18-fbca52d4d62d",
   "metadata": {},
   "outputs": [],
   "source": [
    "Choice_set = {'Math', 'physics', 'chemistry', 'physics'}"
   ]
  },
  {
   "cell_type": "code",
   "execution_count": 9,
   "id": "4251f58e-1bff-4d29-92c1-b3042c8992b4",
   "metadata": {},
   "outputs": [
    {
     "data": {
      "text/plain": [
       "{'Math', 'chemistry', 'physics'}"
      ]
     },
     "execution_count": 9,
     "metadata": {},
     "output_type": "execute_result"
    }
   ],
   "source": [
    "Choice_set"
   ]
  },
  {
   "cell_type": "code",
   "execution_count": 11,
   "id": "26220e01-d680-483c-9465-cd241727732d",
   "metadata": {},
   "outputs": [
    {
     "data": {
      "text/plain": [
       "set"
      ]
     },
     "execution_count": 11,
     "metadata": {},
     "output_type": "execute_result"
    }
   ],
   "source": [
    "type(Choice_set)"
   ]
  },
  {
   "cell_type": "markdown",
   "id": "3a98ef96-71b0-42fe-b539-b2c87069320d",
   "metadata": {},
   "source": [
    "## adding element in set"
   ]
  },
  {
   "cell_type": "code",
   "execution_count": 14,
   "id": "c1691cc8-6c72-405e-9e7d-f76f44cc9db4",
   "metadata": {},
   "outputs": [
    {
     "ename": "AttributeError",
     "evalue": "'set' object has no attribute 'append'",
     "output_type": "error",
     "traceback": [
      "\u001b[1;31m---------------------------------------------------------------------------\u001b[0m",
      "\u001b[1;31mAttributeError\u001b[0m                            Traceback (most recent call last)",
      "Cell \u001b[1;32mIn[14], line 1\u001b[0m\n\u001b[1;32m----> 1\u001b[0m Choice_set\u001b[38;5;241m.\u001b[39mappend(\u001b[38;5;124m'\u001b[39m\u001b[38;5;124mboilogy\u001b[39m\u001b[38;5;124m'\u001b[39m)\n",
      "\u001b[1;31mAttributeError\u001b[0m: 'set' object has no attribute 'append'"
     ]
    }
   ],
   "source": [
    "Choice_set.append('boilogy')"
   ]
  },
  {
   "cell_type": "code",
   "execution_count": 16,
   "id": "f16cb8b9-8766-4f76-b634-cb6ae582527e",
   "metadata": {},
   "outputs": [
    {
     "ename": "AttributeError",
     "evalue": "'set' object has no attribute 'insert'",
     "output_type": "error",
     "traceback": [
      "\u001b[1;31m---------------------------------------------------------------------------\u001b[0m",
      "\u001b[1;31mAttributeError\u001b[0m                            Traceback (most recent call last)",
      "Cell \u001b[1;32mIn[16], line 1\u001b[0m\n\u001b[1;32m----> 1\u001b[0m Choice_set\u001b[38;5;241m.\u001b[39minsert(\u001b[38;5;241m1\u001b[39m,\u001b[38;5;124m'\u001b[39m\u001b[38;5;124mboilogy\u001b[39m\u001b[38;5;124m'\u001b[39m)\n",
      "\u001b[1;31mAttributeError\u001b[0m: 'set' object has no attribute 'insert'"
     ]
    }
   ],
   "source": [
    "Choice_set.insert(1,'boilogy')"
   ]
  },
  {
   "cell_type": "code",
   "execution_count": 18,
   "id": "3be3eb8a-076b-4f92-8cfa-c26bb58bd630",
   "metadata": {},
   "outputs": [
    {
     "ename": "AttributeError",
     "evalue": "'set' object has no attribute 'extend'",
     "output_type": "error",
     "traceback": [
      "\u001b[1;31m---------------------------------------------------------------------------\u001b[0m",
      "\u001b[1;31mAttributeError\u001b[0m                            Traceback (most recent call last)",
      "Cell \u001b[1;32mIn[18], line 2\u001b[0m\n\u001b[0;32m      1\u001b[0m choice_set2 \u001b[38;5;241m=\u001b[39m {\u001b[38;5;124m'\u001b[39m\u001b[38;5;124mbiology\u001b[39m\u001b[38;5;124m'\u001b[39m}\n\u001b[1;32m----> 2\u001b[0m Choice_set\u001b[38;5;241m.\u001b[39mextend(choice_set2)\n",
      "\u001b[1;31mAttributeError\u001b[0m: 'set' object has no attribute 'extend'"
     ]
    }
   ],
   "source": [
    "choice_set2 = {'biology'}\n",
    "Choice_set.extend(choice_set2)"
   ]
  },
  {
   "cell_type": "code",
   "execution_count": 20,
   "id": "cfb90314-9ad2-4984-9ae5-85497b438861",
   "metadata": {},
   "outputs": [
    {
     "data": {
      "text/plain": [
       "2"
      ]
     },
     "execution_count": 20,
     "metadata": {},
     "output_type": "execute_result"
    }
   ],
   "source": [
    "lst = [1,2,3]\n",
    "lst[1]"
   ]
  },
  {
   "cell_type": "code",
   "execution_count": 22,
   "id": "005893d6-33de-4b6c-a9c9-bdc0149b7b34",
   "metadata": {},
   "outputs": [
    {
     "ename": "TypeError",
     "evalue": "'set' object is not subscriptable",
     "output_type": "error",
     "traceback": [
      "\u001b[1;31m---------------------------------------------------------------------------\u001b[0m",
      "\u001b[1;31mTypeError\u001b[0m                                 Traceback (most recent call last)",
      "Cell \u001b[1;32mIn[22], line 1\u001b[0m\n\u001b[1;32m----> 1\u001b[0m Choice_set[\u001b[38;5;241m0\u001b[39m]\n",
      "\u001b[1;31mTypeError\u001b[0m: 'set' object is not subscriptable"
     ]
    }
   ],
   "source": [
    "Choice_set[0]"
   ]
  },
  {
   "cell_type": "code",
   "execution_count": 24,
   "id": "bd0ec1ad-327e-45f8-b4d4-12123e5cd19a",
   "metadata": {},
   "outputs": [
    {
     "data": {
      "text/plain": [
       "{1, 2, 4}"
      ]
     },
     "execution_count": 24,
     "metadata": {},
     "output_type": "execute_result"
    }
   ],
   "source": [
    "set([1,2,1,4,True])    # [1,2,1,4,True])"
   ]
  },
  {
   "cell_type": "code",
   "execution_count": 26,
   "id": "7fa1b6c8-fd36-4b26-a3bf-c69cdd5b5b25",
   "metadata": {},
   "outputs": [
    {
     "data": {
      "text/plain": [
       "{False, 1, 2, 4}"
      ]
     },
     "execution_count": 26,
     "metadata": {},
     "output_type": "execute_result"
    }
   ],
   "source": [
    "set([1,2, False, 1,4,0 ])  "
   ]
  },
  {
   "cell_type": "code",
   "execution_count": 30,
   "id": "ca468cba-e498-414a-ab44-36947a78ec07",
   "metadata": {},
   "outputs": [
    {
     "data": {
      "text/plain": [
       "{0, 1, 2, 4}"
      ]
     },
     "execution_count": 30,
     "metadata": {},
     "output_type": "execute_result"
    }
   ],
   "source": [
    "set([1, 1,4,0, 2, False ]) "
   ]
  },
  {
   "cell_type": "code",
   "execution_count": null,
   "id": "e11be0d7-a64e-449e-a352-f92d0c0773b6",
   "metadata": {},
   "outputs": [],
   "source": []
  },
  {
   "cell_type": "code",
   "execution_count": 28,
   "id": "d1049b84-f0a1-4eae-a247-cba801217fd0",
   "metadata": {},
   "outputs": [
    {
     "data": {
      "text/plain": [
       "{True, 2, 4}"
      ]
     },
     "execution_count": 28,
     "metadata": {},
     "output_type": "execute_result"
    }
   ],
   "source": [
    "set([True, 1,2,1,4,])  "
   ]
  },
  {
   "cell_type": "code",
   "execution_count": 32,
   "id": "71f02092-8370-47b6-8b55-a92a0af3fb47",
   "metadata": {},
   "outputs": [
    {
     "ename": "NameError",
     "evalue": "name 'on' is not defined",
     "output_type": "error",
     "traceback": [
      "\u001b[1;31m---------------------------------------------------------------------------\u001b[0m",
      "\u001b[1;31mNameError\u001b[0m                                 Traceback (most recent call last)",
      "Cell \u001b[1;32mIn[32], line 1\u001b[0m\n\u001b[1;32m----> 1\u001b[0m \u001b[38;5;28mset\u001b[39m([on,\u001b[38;5;241m1\u001b[39m,\u001b[38;5;241m2\u001b[39m,\u001b[38;5;241m4\u001b[39m])\n",
      "\u001b[1;31mNameError\u001b[0m: name 'on' is not defined"
     ]
    }
   ],
   "source": []
  },
  {
   "cell_type": "code",
   "execution_count": null,
   "id": "2375a189-b124-4f41-85f0-faf8106a24b7",
   "metadata": {},
   "outputs": [],
   "source": []
  }
 ],
 "metadata": {
  "kernelspec": {
   "display_name": "Python 3 (ipykernel)",
   "language": "python",
   "name": "python3"
  },
  "language_info": {
   "codemirror_mode": {
    "name": "ipython",
    "version": 3
   },
   "file_extension": ".py",
   "mimetype": "text/x-python",
   "name": "python",
   "nbconvert_exporter": "python",
   "pygments_lexer": "ipython3",
   "version": "3.12.4"
  }
 },
 "nbformat": 4,
 "nbformat_minor": 5
}
