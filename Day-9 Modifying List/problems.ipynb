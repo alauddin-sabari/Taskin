{
 "cells": [
  {
   "cell_type": "code",
   "execution_count": 15,
   "id": "1405c147-dd35-43ae-a014-0243336f1943",
   "metadata": {},
   "outputs": [],
   "source": [
    "#problem 8"
   ]
  },
  {
   "cell_type": "code",
   "execution_count": 10,
   "id": "fe1d890b-587c-4dc2-abd7-dac3dda63ba4",
   "metadata": {},
   "outputs": [
    {
     "name": "stdout",
     "output_type": "stream",
     "text": [
      "[0, 1, 4, 9, 16, 25, 36, 49, 64, 81, 100]\n"
     ]
    }
   ],
   "source": [
    "square = [x**2 for x in range(11)]\n",
    "print(square)"
   ]
  },
  {
   "cell_type": "code",
   "execution_count": 132,
   "id": "fc72a9c2-b090-499f-811e-0e7e240b33e8",
   "metadata": {},
   "outputs": [],
   "source": [
    "\n",
    "def generate_squares(que):\n",
    "    ans=[que**2 for que in range(que)]\n",
    "    print(f'is it {ans}')"
   ]
  },
  {
   "cell_type": "code",
   "execution_count": 134,
   "id": "9353f045-a510-4643-a4b6-61f45a9317b2",
   "metadata": {},
   "outputs": [
    {
     "name": "stdout",
     "output_type": "stream",
     "text": [
      "is it [0, 1, 4, 9, 16]\n"
     ]
    }
   ],
   "source": [
    "generate_squares(5)"
   ]
  },
  {
   "cell_type": "code",
   "execution_count": null,
   "id": "62485e85-d2f9-48a7-83bf-a555e45c5ad9",
   "metadata": {},
   "outputs": [],
   "source": [
    "#problem 7"
   ]
  },
  {
   "cell_type": "code",
   "execution_count": 143,
   "id": "0af4279a-11b4-4624-81ef-3b0f152eeabe",
   "metadata": {},
   "outputs": [],
   "source": [
    "def merge_and_sort(lst1,lst2):\n",
    "    lst1.extend(lst2)\n",
    "    lst1.sort()\n",
    "    print(lst1)\n",
    "    "
   ]
  },
  {
   "cell_type": "code",
   "execution_count": 145,
   "id": "5f50bd4a-f6f8-4e26-8c5f-281281cf7e09",
   "metadata": {},
   "outputs": [
    {
     "name": "stdout",
     "output_type": "stream",
     "text": [
      "[1, 1, 1, 1, 6, 9]\n"
     ]
    }
   ],
   "source": [
    "lst1=[1,9,1]\n",
    "lst2=[1,1,6]\n",
    "merge_and_sort(lst1, lst2)"
   ]
  },
  {
   "cell_type": "code",
   "execution_count": 74,
   "id": "b133b382-7683-46f3-8190-923fa590b0c3",
   "metadata": {},
   "outputs": [
    {
     "data": {
      "text/plain": [
       "[1, 1, 1, 1, 1, 4]"
      ]
     },
     "execution_count": 74,
     "metadata": {},
     "output_type": "execute_result"
    }
   ],
   "source": [
    "lst1"
   ]
  },
  {
   "cell_type": "code",
   "execution_count": 100,
   "id": "6278c68e-45c6-4749-81f7-660f4245e0de",
   "metadata": {},
   "outputs": [],
   "source": [
    "def reverse_list(pro):\n",
    "    pro.reverse()\n",
    "    print(pro)"
   ]
  },
  {
   "cell_type": "code",
   "execution_count": 104,
   "id": "6083d78b-661b-4475-9a13-065db3410f6a",
   "metadata": {},
   "outputs": [
    {
     "name": "stdout",
     "output_type": "stream",
     "text": [
      "[6, 5, 4, 5, 4]\n"
     ]
    }
   ],
   "source": [
    "pro=[4,5,4,5,6]\n",
    "reverse_list(pro)"
   ]
  },
  {
   "cell_type": "code",
   "execution_count": 161,
   "id": "57df8576-c7b4-4b45-9858-5052a0612ab5",
   "metadata": {},
   "outputs": [],
   "source": [
    "def count_occurrences(lst, element):\n",
    "    counting = 0 \n",
    "    for n in lst:\n",
    "        print(n)\n",
    "    c = lst.count(element)\n",
    "    return c\n",
    "    print(count_occurrences(lst,'d'))"
   ]
  },
  {
   "cell_type": "code",
   "execution_count": 169,
   "id": "1acb960b-898c-4c62-b187-558c126dbd4c",
   "metadata": {},
   "outputs": [],
   "source": [
    "def count_occurrences(lst, target_element):\n",
    "    counting = 0 \n",
    "    for n in lst:\n",
    "        print('-------------curennt item', n)\n",
    "        if n == target_element:\n",
    "            counting += 1\n",
    "        print('numbers of occurance we found',counting)\n",
    "        \n",
    "    return counting\n",
    "    print(count_occurrences(lst,'d'))"
   ]
  },
  {
   "cell_type": "code",
   "execution_count": 171,
   "id": "b8b5661b-8373-4cff-a8e8-f056af2508ac",
   "metadata": {},
   "outputs": [
    {
     "name": "stdout",
     "output_type": "stream",
     "text": [
      "-------------curennt item a\n",
      "numbers of occurance we found 0\n",
      "-------------curennt item b\n",
      "numbers of occurance we found 0\n",
      "-------------curennt item c\n",
      "numbers of occurance we found 0\n",
      "-------------curennt item d\n",
      "numbers of occurance we found 1\n",
      "-------------curennt item e\n",
      "numbers of occurance we found 1\n",
      "-------------curennt item d\n",
      "numbers of occurance we found 2\n",
      "-------------curennt item g\n",
      "numbers of occurance we found 2\n",
      "-------------curennt item h\n",
      "numbers of occurance we found 2\n",
      "-------------curennt item i\n",
      "numbers of occurance we found 2\n",
      "-------------curennt item j\n",
      "numbers of occurance we found 2\n",
      "-------------curennt item k\n",
      "numbers of occurance we found 2\n",
      "-------------curennt item l\n",
      "numbers of occurance we found 2\n",
      "-------------curennt item m\n",
      "numbers of occurance we found 2\n",
      "-------------curennt item n\n",
      "numbers of occurance we found 2\n",
      "-------------curennt item o\n",
      "numbers of occurance we found 2\n",
      "-------------curennt item d\n",
      "numbers of occurance we found 3\n"
     ]
    },
    {
     "data": {
      "text/plain": [
       "3"
      ]
     },
     "execution_count": 171,
     "metadata": {},
     "output_type": "execute_result"
    }
   ],
   "source": [
    "lst = ['a','b','c','d','e','d','g','h','i','j','k','l','m','n','o','d']\n",
    "count_occurrences(lst,'d')"
   ]
  },
  {
   "cell_type": "code",
   "execution_count": 155,
   "id": "98f1b410-d38f-4a9d-b54a-03bedf32d177",
   "metadata": {},
   "outputs": [
    {
     "data": {
      "text/plain": [
       "list"
      ]
     },
     "execution_count": 155,
     "metadata": {},
     "output_type": "execute_result"
    }
   ],
   "source": [
    "type(lst)"
   ]
  },
  {
   "cell_type": "code",
   "execution_count": 159,
   "id": "6b980af4-3168-49dc-9848-aa88d5784049",
   "metadata": {},
   "outputs": [
    {
     "name": "stdout",
     "output_type": "stream",
     "text": [
      "a\n",
      "b\n",
      "c\n",
      "d\n",
      "e\n",
      "d\n",
      "g\n",
      "h\n",
      "i\n",
      "j\n",
      "k\n",
      "l\n",
      "m\n",
      "n\n",
      "o\n",
      "d\n"
     ]
    }
   ],
   "source": [
    "for n in lst:\n",
    "    print(n)"
   ]
  },
  {
   "cell_type": "code",
   "execution_count": 173,
   "id": "07474b18-aaa5-4e22-a56e-37c47beae110",
   "metadata": {},
   "outputs": [
    {
     "name": "stdout",
     "output_type": "stream",
     "text": [
      "15\n"
     ]
    }
   ],
   "source": [
    "def list_sum(numbers):\n",
    "    # Your code here\n",
    "    return sum(numbers)\n",
    "# Example usage:\n",
    "numbers = [1, 2, 3, 4, 5]\n",
    "print(list_sum(numbers))  # Output: 15"
   ]
  },
  {
   "cell_type": "code",
   "execution_count": 179,
   "id": "5d03426f-bfae-4b89-aaee-83746b90d376",
   "metadata": {},
   "outputs": [
    {
     "data": {
      "text/plain": [
       "3"
      ]
     },
     "execution_count": 179,
     "metadata": {},
     "output_type": "execute_result"
    }
   ],
   "source": [
    "n = 3\n",
    "x = 0 \n",
    "x += n\n",
    "x"
   ]
  },
  {
   "cell_type": "code",
   "execution_count": 215,
   "id": "9782c9ef-52d4-4b17-b4e9-40046d2cfa80",
   "metadata": {},
   "outputs": [
    {
     "name": "stdout",
     "output_type": "stream",
     "text": [
      "your answer is \n",
      "21\n"
     ]
    }
   ],
   "source": [
    "def list_sum(numbers):\n",
    "\n",
    "    addition = 0 \n",
    "    for n in numbers:\n",
    "        \n",
    "         addition+=n\n",
    "    print('your answer is ')\n",
    "    return addition   \n",
    "numbers = [1, 2, 3, 4, 5,6]\n",
    "print(list_sum(numbers))  # Output: 21"
   ]
  },
  {
   "cell_type": "code",
   "execution_count": 236,
   "id": "b74b79e8-87c1-4616-978b-7c1fa206c6f3",
   "metadata": {},
   "outputs": [
    {
     "name": "stdout",
     "output_type": "stream",
     "text": [
      "[2, 4, 6]\n"
     ]
    }
   ],
   "source": [
    "def find_even_numbers(lst):\n",
    "    even_list = []\n",
    "    for e in lst:\n",
    "        if e%2==0:\n",
    "            # lst.append(even_list)\n",
    "            even_list.append(e)\n",
    "    return even_list     \n",
    "\n",
    "# Example usage:\n",
    "lst = [1, 2, 3, 4, 5, 6]\n",
    "print(find_even_numbers(lst))  # Output: [2, 4, 6]"
   ]
  },
  {
   "cell_type": "code",
   "execution_count": null,
   "id": "dd71ba9e-53a3-49dc-ace6-f29331264863",
   "metadata": {},
   "outputs": [],
   "source": []
  }
 ],
 "metadata": {
  "kernelspec": {
   "display_name": "Python 3 (ipykernel)",
   "language": "python",
   "name": "python3"
  },
  "language_info": {
   "codemirror_mode": {
    "name": "ipython",
    "version": 3
   },
   "file_extension": ".py",
   "mimetype": "text/x-python",
   "name": "python",
   "nbconvert_exporter": "python",
   "pygments_lexer": "ipython3",
   "version": "3.12.4"
  }
 },
 "nbformat": 4,
 "nbformat_minor": 5
}
