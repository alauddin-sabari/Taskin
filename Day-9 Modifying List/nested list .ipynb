{
 "cells": [
  {
   "cell_type": "code",
   "execution_count": 58,
   "id": "f6ff82bc-66be-4322-ae46-8e80a0034716",
   "metadata": {},
   "outputs": [
    {
     "name": "stdout",
     "output_type": "stream",
     "text": [
      "32\n"
     ]
    }
   ],
   "source": [
    "teachers_list = [[ 'Alex', 32],[ 'Patrick', 40], ['Elder', 45]]\n",
    "print(teachers_list[0][1])\n"
   ]
  },
  {
   "cell_type": "code",
   "execution_count": 7,
   "id": "94ce42ce-332c-44e6-9fac-adfbecc6ca10",
   "metadata": {},
   "outputs": [
    {
     "data": {
      "text/plain": [
       "['Elder', 45]"
      ]
     },
     "execution_count": 7,
     "metadata": {},
     "output_type": "execute_result"
    }
   ],
   "source": [
    "teachers_list[2]"
   ]
  },
  {
   "cell_type": "code",
   "execution_count": 15,
   "id": "b5fe092d-03b5-44d9-82d2-255fb9b99107",
   "metadata": {},
   "outputs": [
    {
     "name": "stdout",
     "output_type": "stream",
     "text": [
      "['alex', 32]\n",
      "['patrick', 40]\n",
      "['Elder', 45]\n"
     ]
    }
   ],
   "source": [
    "for x in teachers_list:\n",
    "    print(x)"
   ]
  },
  {
   "cell_type": "code",
   "execution_count": 28,
   "id": "b9d4c5e6-5439-48eb-8203-1328e5cce59b",
   "metadata": {},
   "outputs": [
    {
     "name": "stdout",
     "output_type": "stream",
     "text": [
      "<class 'list'>\n",
      "<class 'int'>\n",
      "32\n",
      "<class 'list'>\n",
      "<class 'int'>\n",
      "40\n",
      "<class 'list'>\n",
      "<class 'int'>\n",
      "45\n"
     ]
    }
   ],
   "source": [
    "for x in teachers_list:\n",
    "    # if  isinstance(x,int): \n",
    "        print(type(x))\n",
    "        print(type(x[1]))\n",
    "        print(x[1])"
   ]
  },
  {
   "cell_type": "markdown",
   "id": "60b0c144-cb53-4465-a59d-33e84d20ea28",
   "metadata": {},
   "source": [
    "## Aaccessing all names from each individual list inside nested list"
   ]
  },
  {
   "cell_type": "code",
   "execution_count": 32,
   "id": "8a8f0966-ae1c-4f87-bfe4-718cd72ee669",
   "metadata": {},
   "outputs": [
    {
     "name": "stdout",
     "output_type": "stream",
     "text": [
      "alex\n",
      "patrick\n",
      "Elder\n"
     ]
    }
   ],
   "source": [
    "for x in teachers_list:\n",
    "        print(x[0])"
   ]
  },
  {
   "cell_type": "code",
   "execution_count": 64,
   "id": "01bfe0cb-cd20-4372-94c9-9bf1e00bbcdc",
   "metadata": {},
   "outputs": [],
   "source": [
    "teachers_list.append(['Sabari', 30])"
   ]
  },
  {
   "cell_type": "code",
   "execution_count": 66,
   "id": "246ebaad-e497-420f-a386-fe17a2016d39",
   "metadata": {},
   "outputs": [
    {
     "data": {
      "text/plain": [
       "[['alex', 32], ['Patrick', 40], ['Elder', 45], ['Sabari', 30]]"
      ]
     },
     "execution_count": 66,
     "metadata": {},
     "output_type": "execute_result"
    }
   ],
   "source": [
    "teachers_list"
   ]
  },
  {
   "cell_type": "code",
   "execution_count": 60,
   "id": "261a018d-871d-48cb-8d9a-5c5228eee2e6",
   "metadata": {},
   "outputs": [
    {
     "name": "stdout",
     "output_type": "stream",
     "text": [
      "alex is 32 years old\n",
      "Patrick is 40 years old\n",
      "Elder is 45 years old\n"
     ]
    }
   ],
   "source": [
    "for x in teachers_list:\n",
    "        print(f'{x[0]} is {x[1]} years old')"
   ]
  },
  {
   "cell_type": "code",
   "execution_count": null,
   "id": "e62c336a-056a-4eb2-ab02-2dcc2699eb49",
   "metadata": {},
   "outputs": [],
   "source": [
    "aplp=32\n",
    "print(f'aplp')"
   ]
  },
  {
   "cell_type": "code",
   "execution_count": 80,
   "id": "451d8440-363f-443f-85de-28c43cddd373",
   "metadata": {},
   "outputs": [
    {
     "name": "stdout",
     "output_type": "stream",
     "text": [
      "A bmw with 2450 miles on it\n",
      "A toyta with 5050 miles on it\n",
      "A suzuki with 3456 miles on it\n"
     ]
    }
   ],
   "source": [
    "car =[['bmw',2450],['toyta',5050],['suzuki',3456]]\n",
    "for brand in car:\n",
    "\n",
    "\n",
    "    print(f'A {brand[0]} with {brand[1]} miles on it')"
   ]
  },
  {
   "cell_type": "code",
   "execution_count": 83,
   "id": "bf8e82d2-cafb-4a25-8aa0-ae93c45afacb",
   "metadata": {},
   "outputs": [
    {
     "data": {
      "text/plain": [
       "11"
      ]
     },
     "execution_count": 83,
     "metadata": {},
     "output_type": "execute_result"
    }
   ],
   "source": [
    "numbers = [1,2,3,5]\n",
    "sum(numbers)"
   ]
  },
  {
   "cell_type": "code",
   "execution_count": 85,
   "id": "47bca110-04cd-4a8c-9aed-139d74b88393",
   "metadata": {
    "scrolled": true
   },
   "outputs": [
    {
     "name": "stdout",
     "output_type": "stream",
     "text": [
      "1\n",
      "3\n",
      "6\n",
      "11\n"
     ]
    }
   ],
   "source": [
    "addition = 0\n",
    "\n",
    "for i in numbers:\n",
    "    addition += i\n",
    "    print(addition)\n",
    "# in first iteration 0+1\n",
    "# in first iteration 0+1 + 2\n",
    "# in first iteration 0+1 +2 +3\n",
    "# in first iteration 0+1 +2 +3 +5"
   ]
  },
  {
   "cell_type": "code",
   "execution_count": null,
   "id": "220b5436-da94-4c6b-8cc6-ff1d7b101702",
   "metadata": {},
   "outputs": [],
   "source": []
  }
 ],
 "metadata": {
  "kernelspec": {
   "display_name": "Python 3 (ipykernel)",
   "language": "python",
   "name": "python3"
  },
  "language_info": {
   "codemirror_mode": {
    "name": "ipython",
    "version": 3
   },
   "file_extension": ".py",
   "mimetype": "text/x-python",
   "name": "python",
   "nbconvert_exporter": "python",
   "pygments_lexer": "ipython3",
   "version": "3.12.4"
  }
 },
 "nbformat": 4,
 "nbformat_minor": 5
}
