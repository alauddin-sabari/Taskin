{
 "cells": [
  {
   "cell_type": "markdown",
   "id": "2f71ca3d-1f23-4206-a7c1-6c67865d8293",
   "metadata": {},
   "source": [
    "# Accessing Elements \n",
    "Index starts from zero in arra  [Index_0_element, Index_1_element, Index_2_element]"
   ]
  },
  {
   "cell_type": "code",
   "execution_count": 33,
   "id": "466d7b70-7af5-442e-8c9f-320ef4931d77",
   "metadata": {},
   "outputs": [],
   "source": [
    "teachers_list = [ 'alex', 32, 'patrick', 40, 'Elder', 45]\n"
   ]
  },
  {
   "cell_type": "code",
   "execution_count": 4,
   "id": "a27b183f-2f20-493d-a175-09a545588dc4",
   "metadata": {},
   "outputs": [],
   "source": [
    "alex_age = teachers_list[1]"
   ]
  },
  {
   "cell_type": "markdown",
   "id": "3a30640b-b7dd-4648-9f92-3634f4b604d2",
   "metadata": {},
   "source": [
    "## Get all the ages not names"
   ]
  },
  {
   "cell_type": "code",
   "execution_count": null,
   "id": "d601fc61-722f-4521-a1a4-e42190490cdc",
   "metadata": {},
   "outputs": [],
   "source": [
    "for i in teachers_list:\n",
    "        # print(i)\n",
    "        if isinstance(i,int):\n",
    "            print(i)\n",
    "        "
   ]
  },
  {
   "cell_type": "markdown",
   "id": "5028e482-797e-4d91-a45f-e5b4e2bf10c6",
   "metadata": {},
   "source": [
    "## Just print all the names\n",
    " "
   ]
  },
  {
   "cell_type": "code",
   "execution_count": 52,
   "id": "ac494aa4-cc04-4c49-a64d-98cf2734f8e1",
   "metadata": {},
   "outputs": [
    {
     "name": "stdout",
     "output_type": "stream",
     "text": [
      "alex\n",
      "patrick\n",
      "Elder\n"
     ]
    }
   ],
   "source": [
    "for i in teachers_list:\n",
    "    if isinstance(i,str):\n",
    "        print(i)"
   ]
  },
  {
   "cell_type": "code",
   "execution_count": 13,
   "id": "5c5965d3-0d98-4e7d-9f73-03ede557c93d",
   "metadata": {},
   "outputs": [
    {
     "data": {
      "text/plain": [
       "True"
      ]
     },
     "execution_count": 13,
     "metadata": {},
     "output_type": "execute_result"
    }
   ],
   "source": [
    "fisinstance(2,int)"
   ]
  },
  {
   "cell_type": "code",
   "execution_count": 19,
   "id": "c17161eb-27f0-4124-912c-d2c426aadb58",
   "metadata": {},
   "outputs": [
    {
     "data": {
      "text/plain": [
       "True"
      ]
     },
     "execution_count": 19,
     "metadata": {},
     "output_type": "execute_result"
    }
   ],
   "source": [
    "isinstance(0.9,float)"
   ]
  },
  {
   "cell_type": "code",
   "execution_count": 21,
   "id": "0e6e7bc3-8a4b-4266-bc65-8cc0cbf2c277",
   "metadata": {},
   "outputs": [
    {
     "data": {
      "text/plain": [
       "True"
      ]
     },
     "execution_count": 21,
     "metadata": {},
     "output_type": "execute_result"
    }
   ],
   "source": [
    "isinstance('mango',str)"
   ]
  },
  {
   "cell_type": "code",
   "execution_count": 35,
   "id": "48dde1dd-36dd-439e-a8ad-e0ee47b29c60",
   "metadata": {},
   "outputs": [
    {
     "name": "stdout",
     "output_type": "stream",
     "text": [
      "age\n"
     ]
    }
   ],
   "source": [
    "if isinstance(i,int):\n",
    "    print('age')\n",
    "else:\n",
    "    print('name')"
   ]
  },
  {
   "cell_type": "code",
   "execution_count": 54,
   "id": "12156113-ac9b-4dd4-a99d-66e894d3b104",
   "metadata": {},
   "outputs": [
    {
     "data": {
      "text/plain": [
       "['alex', 32, 'patrick', 40, 'Elder', 45]"
      ]
     },
     "execution_count": 54,
     "metadata": {},
     "output_type": "execute_result"
    }
   ],
   "source": [
    "teachers_list"
   ]
  },
  {
   "cell_type": "markdown",
   "id": "70e3cdcc-2565-4976-82b9-0e7db62256fc",
   "metadata": {},
   "source": [
    "## Accessing list element by index"
   ]
  },
  {
   "cell_type": "markdown",
   "id": "ee795651-ea49-479d-82f5-266c49aac27a",
   "metadata": {},
   "source": [
    "- [starting_index, upto_last_index_not_the_last_one]"
   ]
  },
  {
   "cell_type": "code",
   "execution_count": 70,
   "id": "431cfb81-12b8-4d4b-a317-fbca45784e49",
   "metadata": {},
   "outputs": [
    {
     "data": {
      "text/plain": [
       "['alex', 32, 'patrick', 40]"
      ]
     },
     "execution_count": 70,
     "metadata": {},
     "output_type": "execute_result"
    }
   ],
   "source": [
    "teachers_list[0:-2]"
   ]
  },
  {
   "cell_type": "code",
   "execution_count": null,
   "id": "77af1e59-ef14-4e98-b29d-7bb6df2330af",
   "metadata": {},
   "outputs": [],
   "source": []
  },
  {
   "cell_type": "markdown",
   "id": "4971bf7e-b0d7-4711-b309-a3c3764578f1",
   "metadata": {},
   "source": [
    "## Get first two teachers from the teachers' list\n"
   ]
  },
  {
   "cell_type": "code",
   "execution_count": 88,
   "id": "d3a6e72f-baeb-4d9b-9ab7-d644869ef68c",
   "metadata": {},
   "outputs": [
    {
     "data": {
      "text/plain": [
       "['alex', 32]"
      ]
     },
     "execution_count": 88,
     "metadata": {},
     "output_type": "execute_result"
    }
   ],
   "source": [
    " teachers_list[0:2]"
   ]
  },
  {
   "cell_type": "code",
   "execution_count": 90,
   "id": "f50103bf-2507-4905-ae2f-60b951e36382",
   "metadata": {},
   "outputs": [
    {
     "name": "stdout",
     "output_type": "stream",
     "text": [
      "alex\n",
      "patrick\n"
     ]
    }
   ],
   "source": [
    "for i in teachers_list[0:4]:\n",
    "  \n",
    "    if isinstance(i, str):\n",
    "        print(i)\n",
    "        "
   ]
  },
  {
   "cell_type": "code",
   "execution_count": null,
   "id": "87520d1f-4306-466b-8b58-47f47a8a6b85",
   "metadata": {},
   "outputs": [],
   "source": [
    "teachers_list1 = [ ['alex', 32], ['patrick', 40], ['Elder', 45]]\n",
    "for x in "
   ]
  }
 ],
 "metadata": {
  "kernelspec": {
   "display_name": "Python 3 (ipykernel)",
   "language": "python",
   "name": "python3"
  },
  "language_info": {
   "codemirror_mode": {
    "name": "ipython",
    "version": 3
   },
   "file_extension": ".py",
   "mimetype": "text/x-python",
   "name": "python",
   "nbconvert_exporter": "python",
   "pygments_lexer": "ipython3",
   "version": "3.12.4"
  }
 },
 "nbformat": 4,
 "nbformat_minor": 5
}
