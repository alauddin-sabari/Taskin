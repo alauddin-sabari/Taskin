{
 "cells": [
  {
   "cell_type": "code",
   "execution_count": 5,
   "id": "55e396a1-a9aa-4aa7-bcca-f0d9c8a38a86",
   "metadata": {},
   "outputs": [],
   "source": [
    "countrys=['albania','england','wales','swiden','ohio','india','bangladesh']\n"
   ]
  },
  {
   "cell_type": "code",
   "execution_count": 7,
   "id": "0a2223e8-1495-4701-9faa-6bf333b0775f",
   "metadata": {},
   "outputs": [
    {
     "name": "stdout",
     "output_type": "stream",
     "text": [
      "england\n"
     ]
    }
   ],
   "source": [
    "print(countrys[1])"
   ]
  },
  {
   "cell_type": "code",
   "execution_count": 11,
   "id": "43821185-cda0-4a02-96cb-382ebadd39fe",
   "metadata": {},
   "outputs": [
    {
     "name": "stdout",
     "output_type": "stream",
     "text": [
      "england\n"
     ]
    }
   ],
   "source": [
    "print(countrys[-6])"
   ]
  },
  {
   "cell_type": "code",
   "execution_count": 21,
   "id": "b30ae60d-ca9c-4894-9779-35d766c02485",
   "metadata": {},
   "outputs": [
    {
     "name": "stdout",
     "output_type": "stream",
     "text": [
      "['ohio', 'india']\n"
     ]
    }
   ],
   "source": [
    "print(countrys[4:6])"
   ]
  },
  {
   "cell_type": "code",
   "execution_count": 25,
   "id": "f82f2e11-a223-4da9-bb5a-947f0a15c8b2",
   "metadata": {},
   "outputs": [
    {
     "name": "stdout",
     "output_type": "stream",
     "text": [
      "['albania', 'england', 'wales']\n"
     ]
    }
   ],
   "source": [
    "print(countrys[:3])"
   ]
  },
  {
   "cell_type": "code",
   "execution_count": 27,
   "id": "01177ba4-a1fc-48ac-9b62-421cec05fb6a",
   "metadata": {},
   "outputs": [
    {
     "name": "stdout",
     "output_type": "stream",
     "text": [
      "['wales', 'swiden', 'ohio', 'india', 'bangladesh']\n"
     ]
    }
   ],
   "source": [
    "print(countrys[2:])"
   ]
  },
  {
   "cell_type": "code",
   "execution_count": 31,
   "id": "3591382b-d71f-43c4-9154-ca33b9a56fc1",
   "metadata": {},
   "outputs": [
    {
     "name": "stdout",
     "output_type": "stream",
     "text": [
      "['albania', 'england', 'wales', 'swiden', 'usa', 'india', 'bangladesh']\n"
     ]
    }
   ],
   "source": [
    "countrys[4]='usa'\n",
    "print(countrys)"
   ]
  },
  {
   "cell_type": "code",
   "execution_count": 51,
   "id": "def68632-48ed-4236-8b52-61a6bd60d749",
   "metadata": {},
   "outputs": [
    {
     "name": "stdout",
     "output_type": "stream",
     "text": [
      "['albania', 'england', 'wales', 'swiden', 'usa', 'india', 'bangladesh', 'japan', 'japan', 'ghana', 'africa', 'china']\n"
     ]
    }
   ],
   "source": [
    "countrys.append('china')\n",
    "print(countrys)"
   ]
  },
  {
   "cell_type": "code",
   "execution_count": 39,
   "id": "a19afbe3-6921-4f75-a214-72f1ca6a8768",
   "metadata": {},
   "outputs": [
    {
     "name": "stdout",
     "output_type": "stream",
     "text": [
      "['albania', 'england', 'wales', 'swiden', 'usa', 'india', 'bangladesh', 'china', 'japan', 'japan', 'china']\n"
     ]
    }
   ],
   "source": [
    "countrys.insert(8,'japan')\n",
    "print(countrys)"
   ]
  },
  {
   "cell_type": "code",
   "execution_count": 47,
   "id": "8b7c2c5c-8651-4f69-bcd0-66778f894f4d",
   "metadata": {},
   "outputs": [
    {
     "name": "stdout",
     "output_type": "stream",
     "text": [
      "['albania', 'england', 'wales', 'swiden', 'usa', 'india', 'bangladesh', 'japan', 'japan', 'ghana', 'africa']\n"
     ]
    }
   ],
   "source": [
    "other_countrys=['ghana','africa']\n",
    "countrys.extend(other_countrys)\n",
    "print(countrys)"
   ]
  },
  {
   "cell_type": "code",
   "execution_count": 53,
   "id": "f773cafc-0238-4afa-b23f-a884b8b7a068",
   "metadata": {},
   "outputs": [
    {
     "name": "stdout",
     "output_type": "stream",
     "text": [
      "['albania', 'england', 'wales', 'swiden', 'usa', 'india', 'bangladesh', 'japan', 'japan', 'ghana', 'africa']\n"
     ]
    }
   ],
   "source": [
    "countrys.remove('china')\n",
    "print(countrys)"
   ]
  },
  {
   "cell_type": "code",
   "execution_count": 59,
   "id": "288367a3-7c50-42d3-85dc-b74760212767",
   "metadata": {},
   "outputs": [
    {
     "name": "stdout",
     "output_type": "stream",
     "text": [
      "['albania', 'wales', 'swiden', 'usa', 'india', 'bangladesh', 'japan', 'japan', 'ghana', 'africa']\n"
     ]
    }
   ],
   "source": [
    "del countrys[1]\n",
    "print(countrys)"
   ]
  },
  {
   "cell_type": "code",
   "execution_count": 61,
   "id": "4c3e771e-7ee6-4346-bf6e-9a7249cf7025",
   "metadata": {},
   "outputs": [
    {
     "name": "stdout",
     "output_type": "stream",
     "text": [
      "usa\n",
      "['albania', 'wales', 'swiden', 'india', 'bangladesh', 'japan', 'japan', 'ghana', 'africa']\n"
     ]
    }
   ],
   "source": [
    "deleted_countrys=countrys.pop(3)\n",
    "print (deleted_countrys)\n",
    "print (countrys)"
   ]
  },
  {
   "cell_type": "code",
   "execution_count": 67,
   "id": "71d184ab-5ac2-4d80-9e28-9f4355786017",
   "metadata": {},
   "outputs": [
    {
     "name": "stdout",
     "output_type": "stream",
     "text": [
      "[0, 1, 8, 27, 64, 125, 216, 343, 512, 729, 1000, 1331, 1728, 2197, 2744, 3375, 4096, 4913, 5832, 6859]\n"
     ]
    }
   ],
   "source": [
    "cubes = [x**3 for x in range(20)]\n",
    "print(cubes)"
   ]
  },
  {
   "cell_type": "code",
   "execution_count": 69,
   "id": "a4ab018f-3e7b-4afc-80bb-21cfbc130f46",
   "metadata": {},
   "outputs": [
    {
     "name": "stdout",
     "output_type": "stream",
     "text": [
      "9\n"
     ]
    }
   ],
   "source": [
    "  print(len(countrys))"
   ]
  },
  {
   "cell_type": "code",
   "execution_count": 71,
   "id": "9db841c4-e6ba-4156-912f-cd65f81e0444",
   "metadata": {},
   "outputs": [
    {
     "name": "stdout",
     "output_type": "stream",
     "text": [
      "20\n"
     ]
    }
   ],
   "source": [
    "  print(len(cubes))"
   ]
  },
  {
   "cell_type": "code",
   "execution_count": 73,
   "id": "e1c04306-7daf-4a4f-ab0a-0d472c86f446",
   "metadata": {},
   "outputs": [
    {
     "name": "stdout",
     "output_type": "stream",
     "text": [
      "1\n"
     ]
    }
   ],
   "source": [
    "print(countrys.count('africa'))"
   ]
  },
  {
   "cell_type": "code",
   "execution_count": 93,
   "id": "6873f06a-ed91-4408-b33e-f2bbcb930128",
   "metadata": {},
   "outputs": [
    {
     "name": "stdout",
     "output_type": "stream",
     "text": [
      "1\n"
     ]
    }
   ],
   "source": [
    "print(countrys.count('albania'))"
   ]
  },
  {
   "cell_type": "code",
   "execution_count": 77,
   "id": "58f287c6-04c9-4500-95e6-15646774aa1d",
   "metadata": {},
   "outputs": [
    {
     "name": "stdout",
     "output_type": "stream",
     "text": [
      "1\n"
     ]
    }
   ],
   "source": [
    "print(countrys.count('wales'))"
   ]
  },
  {
   "cell_type": "code",
   "execution_count": 79,
   "id": "86221d85-a973-447d-b15d-213f8f3faa18",
   "metadata": {},
   "outputs": [
    {
     "name": "stdout",
     "output_type": "stream",
     "text": [
      "1\n"
     ]
    }
   ],
   "source": [
    "print(countrys.count('swiden'))"
   ]
  },
  {
   "cell_type": "code",
   "execution_count": 91,
   "id": "34a4c222-1895-42bf-bdce-e363bf40b083",
   "metadata": {},
   "outputs": [
    {
     "name": "stdout",
     "output_type": "stream",
     "text": [
      "['africa', 'ghana', 'japan', 'japan', 'bangladesh', 'india', 'swiden', 'wales', 'albania']\n"
     ]
    }
   ],
   "source": [
    "countrys.reverse()\n",
    "print(countrys)"
   ]
  },
  {
   "cell_type": "code",
   "execution_count": 100,
   "id": "c55d2b6d-985e-4180-954e-7258c61e8e81",
   "metadata": {},
   "outputs": [
    {
     "data": {
      "text/plain": [
       "2"
      ]
     },
     "execution_count": 100,
     "metadata": {},
     "output_type": "execute_result"
    }
   ],
   "source": [
    "list1 = ['africa', 'ghana', 'japan', 'japan', 'bangladesh', 'india', 'swiden', 'wales', 'albania', 'str1', 'str1']\n",
    "list1.count('str1')"
   ]
  },
  {
   "cell_type": "code",
   "execution_count": 97,
   "id": "b97d9fc8-5d63-42ea-b495-cd794d85c7e9",
   "metadata": {},
   "outputs": [
    {
     "name": "stdout",
     "output_type": "stream",
     "text": [
      "['d', 'e', 'f']\n",
      "i\n"
     ]
    }
   ],
   "source": [
    "nested_list = [['a','b','c'], ['d','e','f'], ['g','h','i']]\n",
    "print(nested_list[1])      \n",
    "print(nested_list[2][2])   "
   ]
  },
  {
   "cell_type": "code",
   "execution_count": null,
   "id": "9c223882-0a47-4f9d-bdec-114e5450ef9a",
   "metadata": {},
   "outputs": [],
   "source": []
  }
 ],
 "metadata": {
  "kernelspec": {
   "display_name": "Python 3 (ipykernel)",
   "language": "python",
   "name": "python3"
  },
  "language_info": {
   "codemirror_mode": {
    "name": "ipython",
    "version": 3
   },
   "file_extension": ".py",
   "mimetype": "text/x-python",
   "name": "python",
   "nbconvert_exporter": "python",
   "pygments_lexer": "ipython3",
   "version": "3.12.4"
  }
 },
 "nbformat": 4,
 "nbformat_minor": 5
}
