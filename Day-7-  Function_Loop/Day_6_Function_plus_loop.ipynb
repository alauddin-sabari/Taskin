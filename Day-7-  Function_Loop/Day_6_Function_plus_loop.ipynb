{
 "cells": [
  {
   "cell_type": "code",
   "execution_count": 98,
   "id": "e9a0f229-0658-4a76-b1d6-6ae82cb4f4ec",
   "metadata": {},
   "outputs": [],
   "source": [
    "All_Classes=['maths','english','french','PE','history','biology','physics','spanish']\n",
    "today_classes=['maths','PE','english','french']\n",
    "def Class_query(class_name='physics'): # class_name function argument\n",
    "\n",
    "    print('class_q', class_q)\n",
    "    print('class q ', class_name)\n",
    "    if class_name in today_classes:\n",
    "        print(f'{class_name} is in todays classes')\n",
    "    "
   ]
  },
  {
   "cell_type": "code",
   "execution_count": 48,
   "id": "bff88cf7-bb4c-4089-809b-1beccbe5936a",
   "metadata": {},
   "outputs": [
    {
     "name": "stdin",
     "output_type": "stream",
     "text": [
      "Ask about a class exist or not today? maths\n"
     ]
    }
   ],
   "source": [
    "class_q = input('Ask about a class exist or not today?')\n"
   ]
  },
  {
   "cell_type": "code",
   "execution_count": 7,
   "id": "d9d79c11-8d54-4a0a-b816-a60f0af7613c",
   "metadata": {},
   "outputs": [
    {
     "data": {
      "text/plain": [
       "'math'"
      ]
     },
     "execution_count": 7,
     "metadata": {},
     "output_type": "execute_result"
    }
   ],
   "source": [
    "class_q"
   ]
  },
  {
   "cell_type": "code",
   "execution_count": 100,
   "id": "9e3e9982-308b-480a-9a37-98d0a7c0ee9c",
   "metadata": {},
   "outputs": [
    {
     "name": "stdout",
     "output_type": "stream",
     "text": [
      "class_q maths\n",
      "class q  maths\n",
      "maths is in todays classes\n"
     ]
    }
   ],
   "source": [
    "Class_query(class_q) # class_query('math');   math string passed to the function as a parameter"
   ]
  },
  {
   "cell_type": "code",
   "execution_count": 96,
   "id": "453e1c96-69ca-47fe-87eb-9a9f14ae5927",
   "metadata": {},
   "outputs": [
    {
     "data": {
      "text/plain": [
       "True"
      ]
     },
     "execution_count": 96,
     "metadata": {},
     "output_type": "execute_result"
    }
   ],
   "source": [
    "'maths' in today_classes"
   ]
  },
  {
   "cell_type": "code",
   "execution_count": 74,
   "id": "9d37a46e-c7de-48fb-ab6f-928ed91b4f3a",
   "metadata": {},
   "outputs": [
    {
     "data": {
      "text/plain": [
       "'maths'"
      ]
     },
     "execution_count": 74,
     "metadata": {},
     "output_type": "execute_result"
    }
   ],
   "source": []
  },
  {
   "cell_type": "code",
   "execution_count": 4,
   "id": "73f34bb6-602f-4468-9611-dd1c6d7c09bd",
   "metadata": {},
   "outputs": [],
   "source": [
    "menu=['pasta','cheese pasta','chicken wings','fried rice','soup','salad','water']\n",
    "craving=['chicken wings','fried rice','soup']\n",
    "def what_to_eat(eating=craving):\n",
    "    print(f'you can have {menu}')\n",
    "    print(f'here is your {eating}')\n",
    "    if eating in menu:\n",
    "        print(f'It will take 5 mins to cook {eating}')\n",
    "\n",
    "    else:\n",
    "        print(f'{eating} is not on our menu')"
   ]
  },
  {
   "cell_type": "code",
   "execution_count": 6,
   "id": "348182f2-6e32-4e82-9440-5bb1b91010af",
   "metadata": {},
   "outputs": [
    {
     "name": "stdout",
     "output_type": "stream",
     "text": [
      "you can have ['pasta', 'cheese pasta', 'chicken wings', 'fried rice', 'soup', 'salad', 'water']\n",
      "here is your ['chicken wings', 'fried rice', 'soup']\n",
      "['chicken wings', 'fried rice', 'soup'] is not on our menu\n"
     ]
    }
   ],
   "source": [
    "what_to_eat()"
   ]
  },
  {
   "cell_type": "code",
   "execution_count": 122,
   "id": "e9a8a221-e7bd-4a19-82d6-c530877c6406",
   "metadata": {},
   "outputs": [
    {
     "data": {
      "text/plain": [
       "['chicken wings', 'fried rice', 'soup']"
      ]
     },
     "execution_count": 122,
     "metadata": {},
     "output_type": "execute_result"
    }
   ],
   "source": [
    "craving"
   ]
  },
  {
   "cell_type": "markdown",
   "id": "a3c50668-1150-43cc-8be9-829ae0260e09",
   "metadata": {},
   "source": [
    "## find out which craving item doesn't exist in resturant's menue "
   ]
  },
  {
   "cell_type": "code",
   "execution_count": 10,
   "id": "f1a791b3-76e0-439e-8673-ab422b96a465",
   "metadata": {},
   "outputs": [],
   "source": [
    "menu=['pasta','cheese pasta','chicken wings','fried rice','soup','salad','water']\n",
    "craving=['chicken wings','fried rice','bread']\n",
    "def what_to_eat(craving):\n",
    "    print('parameter craving ')\n",
    "    print(f'you can have {menu}')\n",
    "    if craving in menu:\n",
    "        print(f'It will take 5 mins to cook {craving}')\n",
    "\n",
    "    else:\n",
    "        print(f'{craving} is not on our menu')"
   ]
  },
  {
   "cell_type": "code",
   "execution_count": 12,
   "id": "48c33923-2fac-4721-9804-c8662eaccb72",
   "metadata": {},
   "outputs": [
    {
     "name": "stdout",
     "output_type": "stream",
     "text": [
      "parameter craving \n",
      "you can have ['pasta', 'cheese pasta', 'chicken wings', 'fried rice', 'soup', 'salad', 'water']\n",
      "bread is not on our menu\n"
     ]
    }
   ],
   "source": [
    "what_to_eat('bread')"
   ]
  },
  {
   "cell_type": "code",
   "execution_count": 159,
   "id": "5a6e401b-bdda-4cbf-9524-f5c4c034ac07",
   "metadata": {},
   "outputs": [],
   "source": [
    "menu=['pasta','cheese pasta','chicken wings','fried rice','soup','salad','water']\n",
    "craving=['chicken wings','fried rice','bread']\n",
    "def what_to_eat(craving_list):\n",
    "    \n",
    "    print('parameter craving contains', craving)\n",
    "    print(f'you can have {menu}')\n",
    "    if craving in menu:\n",
    "        print(f'It will take 5 mins to cook {craving}')\n",
    "\n",
    "    else:\n",
    "        print(f'{craving} is not on our menu')"
   ]
  },
  {
   "cell_type": "code",
   "execution_count": 165,
   "id": "2bdf1ce7-0ce6-46ad-8dde-206e0d4cc868",
   "metadata": {},
   "outputs": [
    {
     "name": "stdout",
     "output_type": "stream",
     "text": [
      "parameter craving contains ['chicken wings', 'fried rice', 'bread']\n",
      "you can have ['pasta', 'cheese pasta', 'chicken wings', 'fried rice', 'soup', 'salad', 'water']\n",
      "['chicken wings', 'fried rice', 'bread'] is not on our menu\n"
     ]
    }
   ],
   "source": [
    "what_to_eat(craving)"
   ]
  },
  {
   "cell_type": "code",
   "execution_count": null,
   "id": "f93c4672-3391-4f97-a528-b1480d70397b",
   "metadata": {},
   "outputs": [],
   "source": [
    "#---------------Home work ---visit each element in craving and find which item is not exist in menu list\n"
   ]
  },
  {
   "cell_type": "code",
   "execution_count": 161,
   "id": "1adc9eca-6a89-4a77-9343-fba81807a0c7",
   "metadata": {},
   "outputs": [
    {
     "name": "stdout",
     "output_type": "stream",
     "text": [
      "parameter craving contains bread\n",
      "you can have ['pasta', 'cheese pasta', 'chicken wings', 'fried rice', 'soup', 'salad', 'water']\n",
      "bread is not on our menu\n"
     ]
    }
   ],
   "source": [
    "what_to_eat('bread')"
   ]
  },
  {
   "cell_type": "code",
   "execution_count": 163,
   "id": "68adc80c-a509-4dc1-9186-64a5c6cebf05",
   "metadata": {},
   "outputs": [
    {
     "data": {
      "text/plain": [
       "['chicken wings', 'fried rice', 'bread']"
      ]
     },
     "execution_count": 163,
     "metadata": {},
     "output_type": "execute_result"
    }
   ],
   "source": [
    "craving"
   ]
  }
 ],
 "metadata": {
  "kernelspec": {
   "display_name": "Python 3 (ipykernel)",
   "language": "python",
   "name": "python3"
  },
  "language_info": {
   "codemirror_mode": {
    "name": "ipython",
    "version": 3
   },
   "file_extension": ".py",
   "mimetype": "text/x-python",
   "name": "python",
   "nbconvert_exporter": "python",
   "pygments_lexer": "ipython3",
   "version": "3.12.4"
  }
 },
 "nbformat": 4,
 "nbformat_minor": 5
}
