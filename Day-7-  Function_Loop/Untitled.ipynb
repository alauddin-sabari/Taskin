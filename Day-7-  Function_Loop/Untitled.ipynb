{
 "cells": [
  {
   "cell_type": "code",
   "execution_count": 14,
   "id": "b7e363e8-5928-4696-9263-9e5484c74860",
   "metadata": {},
   "outputs": [],
   "source": [
    "lst=[11, 3, 4, 5 , 7, 1, 0]\n",
    "\n"
   ]
  },
  {
   "cell_type": "code",
   "execution_count": 76,
   "id": "bb1ad24b-1204-4cc6-9c7c-f528f3ab35c4",
   "metadata": {},
   "outputs": [
    {
     "name": "stdout",
     "output_type": "stream",
     "text": [
      "11\n",
      "7\n",
      "5\n",
      "4\n",
      "3\n",
      "1\n",
      "0\n"
     ]
    }
   ],
   "source": [
    "for i in range(6,-1,-1):\n",
    "    print(lst[i])"
   ]
  },
  {
   "cell_type": "code",
   "execution_count": 78,
   "id": "783cdb1f-244e-41a6-b5c1-08419410a57d",
   "metadata": {},
   "outputs": [
    {
     "name": "stdout",
     "output_type": "stream",
     "text": [
      "0\n",
      "1\n",
      "2\n",
      "3\n",
      "4\n",
      "5\n"
     ]
    }
   ],
   "source": [
    "for i in range(6):\n",
    "    print(i)"
   ]
  },
  {
   "cell_type": "code",
   "execution_count": 21,
   "id": "319e3660-b70d-410c-a358-48716a18928c",
   "metadata": {},
   "outputs": [
    {
     "name": "stdout",
     "output_type": "stream",
     "text": [
      "6\n",
      "7\n",
      "8\n"
     ]
    }
   ],
   "source": [
    "for i in range(6,9):\n",
    "    print(i)"
   ]
  },
  {
   "cell_type": "code",
   "execution_count": 23,
   "id": "677ce7ba-3e64-4b80-8e7f-e103fa0eed44",
   "metadata": {},
   "outputs": [
    {
     "name": "stdout",
     "output_type": "stream",
     "text": [
      "6\n",
      "5\n",
      "4\n",
      "3\n",
      "2\n",
      "1\n",
      "0\n",
      "-1\n",
      "-2\n",
      "-3\n",
      "-4\n"
     ]
    }
   ],
   "source": [
    "for i in range(6,-5,-1):\n",
    "    print(i)"
   ]
  },
  {
   "cell_type": "code",
   "execution_count": 30,
   "id": "977c11fa-cc4e-4819-8204-75914cc30cd4",
   "metadata": {},
   "outputs": [
    {
     "name": "stdout",
     "output_type": "stream",
     "text": [
      "11\n",
      "3\n",
      "4\n",
      "5\n",
      "7\n",
      "1\n",
      "2\n"
     ]
    }
   ],
   "source": [
    "lst_length = len(lst)\n",
    "for i in range(lst_length):\n",
    "    print(lst[i])"
   ]
  },
  {
   "cell_type": "code",
   "execution_count": 18,
   "id": "ab796ae1-23cd-41ca-987d-7655d8cde232",
   "metadata": {},
   "outputs": [
    {
     "data": {
      "text/plain": [
       "0"
      ]
     },
     "execution_count": 18,
     "metadata": {},
     "output_type": "execute_result"
    }
   ],
   "source": [
    "right_index = len(lst) - 1\n",
    "lst[right_index]"
   ]
  },
  {
   "cell_type": "code",
   "execution_count": 20,
   "id": "23088c2b-fec5-4559-b8cb-582b1fa4f2d5",
   "metadata": {},
   "outputs": [
    {
     "data": {
      "text/plain": [
       "6"
      ]
     },
     "execution_count": 20,
     "metadata": {},
     "output_type": "execute_result"
    }
   ],
   "source": [
    "last_index = len(lst) -1\n",
    "last_index"
   ]
  },
  {
   "cell_type": "code",
   "execution_count": 71,
   "id": "a69517b3-581d-4487-b24e-9c025563c773",
   "metadata": {},
   "outputs": [
    {
     "data": {
      "text/plain": [
       "[11, 7, 5, 4, 3, 1, 0]"
      ]
     },
     "execution_count": 71,
     "metadata": {},
     "output_type": "execute_result"
    }
   ],
   "source": [
    "right_index = len(lst)-1\n",
    "reverse_list = []\n",
    "\n",
    "for i in range(last_index, -1, -1):\n",
    "    \n",
    "    reverse_list.append(lst[i])\n",
    "    lst.sort()\n",
    "    \n",
    "reverse_list\n"
   ]
  },
  {
   "cell_type": "code",
   "execution_count": 24,
   "id": "c8dfed4e-bdb5-4221-a0c9-1996e55534c8",
   "metadata": {},
   "outputs": [
    {
     "data": {
      "text/plain": [
       "[0, 1, 7, 5, 4, 3, 11]"
      ]
     },
     "execution_count": 24,
     "metadata": {},
     "output_type": "execute_result"
    }
   ],
   "source": [
    "right_index = len(lst)-1\n",
    "reverse_list = []\n",
    "\n",
    "for i in range(last_index, -1, -1):\n",
    "    \n",
    "    reverse_list.append(lst[i])\n",
    "    right_index = len(lst)-1\n",
    "    \n",
    "\n",
    "    \n",
    "reverse_list\n"
   ]
  },
  {
   "cell_type": "code",
   "execution_count": 31,
   "id": "b69a9417-ec10-4817-a015-7f63f9226bc0",
   "metadata": {},
   "outputs": [
    {
     "data": {
      "text/plain": [
       "[11, 3, 4, 5, 7, 1, 0]"
      ]
     },
     "execution_count": 31,
     "metadata": {},
     "output_type": "execute_result"
    }
   ],
   "source": [
    "lst[0:len(lst)]"
   ]
  },
  {
   "cell_type": "code",
   "execution_count": null,
   "id": "6483c5d5-7103-4730-96a8-8f195212687e",
   "metadata": {},
   "outputs": [],
   "source": []
  },
  {
   "cell_type": "code",
   "execution_count": null,
   "id": "8a770f7d-c8a2-427a-9af4-884985e14dbc",
   "metadata": {},
   "outputs": [],
   "source": []
  }
 ],
 "metadata": {
  "kernelspec": {
   "display_name": "Python 3 (ipykernel)",
   "language": "python",
   "name": "python3"
  },
  "language_info": {
   "codemirror_mode": {
    "name": "ipython",
    "version": 3
   },
   "file_extension": ".py",
   "mimetype": "text/x-python",
   "name": "python",
   "nbconvert_exporter": "python",
   "pygments_lexer": "ipython3",
   "version": "3.12.4"
  }
 },
 "nbformat": 4,
 "nbformat_minor": 5
}
