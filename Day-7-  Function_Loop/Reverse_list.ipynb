{
 "cells": [
  {
   "cell_type": "code",
   "execution_count": null,
   "id": "9e0cdae1-034c-415d-b2ce-c02964ff02a1",
   "metadata": {},
   "outputs": [],
   "source": [
    "[10, 9, 8, 6, 4]"
   ]
  },
  {
   "cell_type": "markdown",
   "id": "27fc2bb7-8e7a-4d9d-a000-0debe9526b46",
   "metadata": {},
   "source": [
    "### FInd the reverse list [4, 6, 8, 9, 10]|"
   ]
  },
  {
   "cell_type": "code",
   "execution_count": 2,
   "id": "930e4e59-671d-49fb-a08c-44b30b6ff9d8",
   "metadata": {},
   "outputs": [
    {
     "name": "stdout",
     "output_type": "stream",
     "text": [
      "0\n",
      "1\n",
      "2\n",
      "3\n",
      "4\n",
      "5\n",
      "6\n",
      "7\n",
      "8\n",
      "9\n"
     ]
    }
   ],
   "source": [
    "for i in range(10):\n",
    " print(i)"
   ]
  },
  {
   "cell_type": "code",
   "execution_count": 13,
   "id": "d04ad8a3-f92d-42a3-b329-61fb86487c59",
   "metadata": {},
   "outputs": [
    {
     "data": {
      "text/plain": [
       "5"
      ]
     },
     "execution_count": 13,
     "metadata": {},
     "output_type": "execute_result"
    }
   ],
   "source": [
    "ls = [10, 9, 8, 6, 4]\n",
    "len(ls)\n"
   ]
  },
  {
   "cell_type": "code",
   "execution_count": 8,
   "id": "80402855-9e68-4c54-8965-582c3a70267c",
   "metadata": {},
   "outputs": [
    {
     "data": {
      "text/plain": [
       "10"
      ]
     },
     "execution_count": 8,
     "metadata": {},
     "output_type": "execute_result"
    }
   ],
   "source": [
    "ls[0]"
   ]
  },
  {
   "cell_type": "code",
   "execution_count": 15,
   "id": "edd6c389-5b70-4c76-b3e3-1f79c8ea2ac4",
   "metadata": {},
   "outputs": [
    {
     "name": "stdout",
     "output_type": "stream",
     "text": [
      "10\n",
      "9\n",
      "8\n",
      "6\n",
      "4\n"
     ]
    }
   ],
   "source": [
    "for i in range(len(ls)):\n",
    "    print(ls[i])"
   ]
  },
  {
   "cell_type": "markdown",
   "id": "b3780cd2-0dfa-41fb-baa1-99f5798565a8",
   "metadata": {},
   "source": [
    "## Efficiant method by reducing time complexity of program"
   ]
  },
  {
   "cell_type": "code",
   "execution_count": 17,
   "id": "8c3ac656-dcdd-47b4-a1e5-d52a7be473a0",
   "metadata": {},
   "outputs": [
    {
     "name": "stdout",
     "output_type": "stream",
     "text": [
      "10\n",
      "9\n",
      "8\n",
      "6\n",
      "4\n"
     ]
    }
   ],
   "source": [
    "ls_length = len(ls)\n",
    "for i in range(ls_length):\n",
    "    print(ls[i])"
   ]
  },
  {
   "cell_type": "code",
   "execution_count": 19,
   "id": "69ea55f5-1ae8-4f91-8da3-fe12a8946458",
   "metadata": {},
   "outputs": [
    {
     "name": "stdout",
     "output_type": "stream",
     "text": [
      "0\n",
      "1\n",
      "2\n",
      "3\n",
      "4\n"
     ]
    }
   ],
   "source": [
    "for i in range(5):\n",
    "    print(i)"
   ]
  },
  {
   "cell_type": "code",
   "execution_count": 21,
   "id": "6ccd7147-5af4-4cac-99db-86a0f26d2f5c",
   "metadata": {},
   "outputs": [
    {
     "name": "stdout",
     "output_type": "stream",
     "text": [
      "2\n",
      "3\n",
      "4\n"
     ]
    }
   ],
   "source": [
    "for i in range(2, 5):   # start , end\n",
    "    print(i)"
   ]
  },
  {
   "cell_type": "code",
   "execution_count": 25,
   "id": "a5c70429-7448-4410-9a95-f43baef303fa",
   "metadata": {},
   "outputs": [
    {
     "name": "stdout",
     "output_type": "stream",
     "text": [
      "2\n",
      "4\n",
      "6\n",
      "8\n"
     ]
    }
   ],
   "source": [
    "for i in range(2, 10, 2):   # start , end, increament/decrement\n",
    "    print(i)"
   ]
  },
  {
   "cell_type": "code",
   "execution_count": 27,
   "id": "4fcb0fd6-a0db-45c6-9508-4c33b6b0f805",
   "metadata": {},
   "outputs": [],
   "source": [
    "for i in range(6, 10, -1):   # start , end, increament/decrement\n",
    "    print(i)"
   ]
  },
  {
   "cell_type": "code",
   "execution_count": 29,
   "id": "cee8c8aa-763d-49df-bf5a-e9fe0bb6c820",
   "metadata": {},
   "outputs": [
    {
     "name": "stdout",
     "output_type": "stream",
     "text": [
      "6\n",
      "5\n",
      "4\n",
      "3\n"
     ]
    }
   ],
   "source": [
    "for i in range(6, 2, -1):   #  highest,  lowest, increament/decrement\n",
    "    print(i)"
   ]
  },
  {
   "cell_type": "code",
   "execution_count": 33,
   "id": "956de2e3-269c-4260-ab7c-a8f597c04466",
   "metadata": {},
   "outputs": [
    {
     "name": "stdout",
     "output_type": "stream",
     "text": [
      "6\n",
      "4\n",
      "2\n",
      "0\n",
      "-2\n",
      "-4\n"
     ]
    }
   ],
   "source": [
    "for i in range(6, -5, -2):   #  highest,  lowest, increament/decrement\n",
    "    print(i)"
   ]
  },
  {
   "cell_type": "code",
   "execution_count": 39,
   "id": "bb73025e-c8d9-4698-b040-003815ed4526",
   "metadata": {},
   "outputs": [],
   "source": [
    "ls = [10, 9, 8, 6, 2]"
   ]
  },
  {
   "cell_type": "code",
   "execution_count": 19,
   "id": "86c28be6-bf9b-48ba-9e77-7dd2b7714ce8",
   "metadata": {},
   "outputs": [
    {
     "data": {
      "text/plain": [
       "4"
      ]
     },
     "execution_count": 19,
     "metadata": {},
     "output_type": "execute_result"
    }
   ],
   "source": [
    "last_index = len(ls) -1\n",
    "last_index"
   ]
  },
  {
   "cell_type": "code",
   "execution_count": 49,
   "id": "89a9adeb-6913-40bf-a583-7063d3b67d0f",
   "metadata": {},
   "outputs": [
    {
     "data": {
      "text/plain": [
       "2"
      ]
     },
     "execution_count": 49,
     "metadata": {},
     "output_type": "execute_result"
    }
   ],
   "source": [
    "ls[4]"
   ]
  },
  {
   "cell_type": "code",
   "execution_count": 21,
   "id": "b380fb83-9cef-490e-9ed7-f7f4f22c06b1",
   "metadata": {},
   "outputs": [
    {
     "data": {
      "text/plain": [
       "4"
      ]
     },
     "execution_count": 21,
     "metadata": {},
     "output_type": "execute_result"
    }
   ],
   "source": [
    "ls[last_index]"
   ]
  },
  {
   "cell_type": "code",
   "execution_count": 53,
   "id": "3aa4b12e-375e-4d0f-ae00-9db4fb30d9f6",
   "metadata": {},
   "outputs": [
    {
     "data": {
      "text/plain": [
       "10"
      ]
     },
     "execution_count": 53,
     "metadata": {},
     "output_type": "execute_result"
    }
   ],
   "source": [
    "ls[0]"
   ]
  },
  {
   "cell_type": "code",
   "execution_count": 55,
   "id": "a6a5168d-1cbb-4928-a7ef-f47a155551f5",
   "metadata": {},
   "outputs": [
    {
     "name": "stdout",
     "output_type": "stream",
     "text": [
      "4\n",
      "3\n",
      "2\n",
      "1\n"
     ]
    }
   ],
   "source": [
    "for i in range(4, 0, -1):\n",
    "    print(i)"
   ]
  },
  {
   "cell_type": "code",
   "execution_count": 57,
   "id": "6b77f87a-17c5-4c27-ac21-f427f6978d92",
   "metadata": {},
   "outputs": [
    {
     "name": "stdout",
     "output_type": "stream",
     "text": [
      "2\n",
      "6\n",
      "8\n",
      "9\n"
     ]
    }
   ],
   "source": [
    "for i in range(4, 0, -1):\n",
    "    print(ls[i])"
   ]
  },
  {
   "cell_type": "code",
   "execution_count": 62,
   "id": "7e807414-93ed-46fc-a502-72ac1db2783b",
   "metadata": {},
   "outputs": [
    {
     "name": "stdout",
     "output_type": "stream",
     "text": [
      "2\n",
      "6\n",
      "8\n",
      "9\n",
      "10\n"
     ]
    }
   ],
   "source": [
    "for i in range(4, -1, -1): # upper range, lower range(exclusive), incraement/decreament\n",
    "    print(ls[i])"
   ]
  },
  {
   "cell_type": "code",
   "execution_count": 75,
   "id": "f03a9379-a448-46f8-ad37-14aedc1a55a8",
   "metadata": {},
   "outputs": [
    {
     "data": {
      "text/plain": [
       "[10, 9, 8, 6, 2]"
      ]
     },
     "execution_count": 75,
     "metadata": {},
     "output_type": "execute_result"
    }
   ],
   "source": [
    "ls"
   ]
  },
  {
   "cell_type": "code",
   "execution_count": 73,
   "id": "3ca13d4c-e502-4dc5-9c3e-e71626ddef77",
   "metadata": {},
   "outputs": [
    {
     "name": "stdout",
     "output_type": "stream",
     "text": [
      "2\n",
      "8\n",
      "10\n"
     ]
    }
   ],
   "source": [
    "for i in range(last_index, -1, -2):\n",
    "    print(ls[i])"
   ]
  },
  {
   "cell_type": "code",
   "execution_count": 77,
   "id": "0767244b-cfb4-4d18-b79b-f6361bb5d2db",
   "metadata": {},
   "outputs": [
    {
     "name": "stdout",
     "output_type": "stream",
     "text": [
      "2\n",
      "6\n",
      "8\n",
      "9\n",
      "10\n"
     ]
    }
   ],
   "source": [
    "for i in range(last_index, -1, -1):\n",
    "    print(ls[i])"
   ]
  },
  {
   "cell_type": "code",
   "execution_count": 79,
   "id": "61610f57-76d5-42cd-97c8-e608ae3d1706",
   "metadata": {},
   "outputs": [],
   "source": [
    "reverse_list = []\n",
    "for i in range(last_index, -1, -1):\n",
    "    # print(ls[i])\n",
    "    reverse_list.append(ls[i])"
   ]
  },
  {
   "cell_type": "code",
   "execution_count": 83,
   "id": "b7dcc1d5-0cb1-453e-a7a3-bb06a27b1923",
   "metadata": {},
   "outputs": [
    {
     "data": {
      "text/plain": [
       "[10, 9, 8, 6, 2]"
      ]
     },
     "execution_count": 83,
     "metadata": {},
     "output_type": "execute_result"
    }
   ],
   "source": [
    "ls"
   ]
  },
  {
   "cell_type": "code",
   "execution_count": 81,
   "id": "231b3253-cb57-4418-94f5-a17bac760706",
   "metadata": {},
   "outputs": [
    {
     "data": {
      "text/plain": [
       "[2, 6, 8, 9, 10]"
      ]
     },
     "execution_count": 81,
     "metadata": {},
     "output_type": "execute_result"
    }
   ],
   "source": [
    "reverse_list"
   ]
  },
  {
   "cell_type": "code",
   "execution_count": 99,
   "id": "254d864f-89c7-4502-8eb8-08f7238e8014",
   "metadata": {},
   "outputs": [
    {
     "data": {
      "text/plain": [
       "[9, 10, 8, 6, 2]"
      ]
     },
     "execution_count": 99,
     "metadata": {},
     "output_type": "execute_result"
    }
   ],
   "source": [
    "ls = [9, 10, 8, 6, 2]\n",
    "ls"
   ]
  },
  {
   "cell_type": "code",
   "execution_count": 101,
   "id": "9d67b439-8b32-438e-a6a8-d9eaa448b061",
   "metadata": {},
   "outputs": [],
   "source": [
    "ls.sort()"
   ]
  },
  {
   "cell_type": "code",
   "execution_count": 103,
   "id": "452f98e2-3bea-4813-b654-f5812b2417ff",
   "metadata": {},
   "outputs": [
    {
     "data": {
      "text/plain": [
       "[2, 6, 8, 9, 10]"
      ]
     },
     "execution_count": 103,
     "metadata": {},
     "output_type": "execute_result"
    }
   ],
   "source": [
    "ls"
   ]
  },
  {
   "cell_type": "code",
   "execution_count": 105,
   "id": "be633da9-4895-4d58-95b1-6d3bbb7c3859",
   "metadata": {},
   "outputs": [],
   "source": [
    "ls.reverse()"
   ]
  },
  {
   "cell_type": "code",
   "execution_count": 107,
   "id": "40884cbd-fb31-4df2-b2df-e7eb079038e4",
   "metadata": {},
   "outputs": [
    {
     "data": {
      "text/plain": [
       "[10, 9, 8, 6, 2]"
      ]
     },
     "execution_count": 107,
     "metadata": {},
     "output_type": "execute_result"
    }
   ],
   "source": [
    "ls"
   ]
  },
  {
   "cell_type": "code",
   "execution_count": 125,
   "id": "f4ac5a64-f838-45d1-ac8f-9508caa299cb",
   "metadata": {},
   "outputs": [
    {
     "data": {
      "text/plain": [
       "[9, 10, 8, 6, 2]"
      ]
     },
     "execution_count": 125,
     "metadata": {},
     "output_type": "execute_result"
    }
   ],
   "source": [
    "ls = [9, 10, 8, 6, 2]\n",
    "ls"
   ]
  },
  {
   "cell_type": "code",
   "execution_count": 117,
   "id": "6abe3968-0652-41d9-923d-7172bd890e5b",
   "metadata": {},
   "outputs": [
    {
     "data": {
      "text/plain": [
       "[2, 6, 8, 9, 10]"
      ]
     },
     "execution_count": 117,
     "metadata": {},
     "output_type": "execute_result"
    }
   ],
   "source": [
    "# ls.sort()\n",
    "# ls"
   ]
  },
  {
   "cell_type": "code",
   "execution_count": 127,
   "id": "2f151045-3e14-4cfb-9458-7828db128fd8",
   "metadata": {},
   "outputs": [
    {
     "data": {
      "text/plain": [
       "[9, 10, 8]"
      ]
     },
     "execution_count": 127,
     "metadata": {},
     "output_type": "execute_result"
    }
   ],
   "source": [
    "ls[0:3]"
   ]
  },
  {
   "cell_type": "code",
   "execution_count": 129,
   "id": "018abaeb-4d07-483d-9cfa-a0fe49e5b2d3",
   "metadata": {},
   "outputs": [
    {
     "data": {
      "text/plain": [
       "[9, 10, 8, 6, 2]"
      ]
     },
     "execution_count": 129,
     "metadata": {},
     "output_type": "execute_result"
    }
   ],
   "source": [
    "ls[0:len(ls)]"
   ]
  },
  {
   "cell_type": "code",
   "execution_count": 131,
   "id": "d6edd03d-fb8b-4b34-b1d5-d023b973da0b",
   "metadata": {},
   "outputs": [
    {
     "data": {
      "text/plain": [
       "2"
      ]
     },
     "execution_count": 131,
     "metadata": {},
     "output_type": "execute_result"
    }
   ],
   "source": [
    "right_index = len(ls) - 1\n",
    "ls[right_index]"
   ]
  },
  {
   "cell_type": "code",
   "execution_count": 23,
   "id": "887fa8d8-4cfc-42d0-8496-9491b90031f7",
   "metadata": {},
   "outputs": [
    {
     "name": "stdout",
     "output_type": "stream",
     "text": [
      "Actual list [10, 9, 8, 6, 4]\n",
      "Current list values remaining for visiting [10, 9, 8, 6]\n",
      "Actual list [10, 9, 8, 6, 4]\n",
      "Current list values remaining for visiting [10, 9, 8]\n",
      "Actual list [10, 9, 8, 6, 4]\n",
      "Current list values remaining for visiting [10, 9]\n",
      "Actual list [10, 9, 8, 6, 4]\n",
      "Current list values remaining for visiting [10]\n",
      "Actual list [10, 9, 8, 6, 4]\n",
      "Current list values remaining for visiting []\n"
     ]
    },
    {
     "data": {
      "text/plain": [
       "[4, 6, 8, 9, 10]"
      ]
     },
     "execution_count": 23,
     "metadata": {},
     "output_type": "execute_result"
    }
   ],
   "source": [
    "right_index = len(ls)-1\n",
    "reverse_list = []\n",
    "\n",
    "for i in range(last_index, -1, -1):\n",
    "    # print(ls[i])\n",
    "    # [9, 10, 8, 6, 2]\n",
    "    print('Actual list', ls)\n",
    "    print('Current list values remaining for visiting', ls[0:right_index] ) \n",
    "    \n",
    "    reverse_list.append(ls[i])\n",
    "    \n",
    "    \n",
    "    \n",
    "    right_index = right_index-1\n",
    "    # ls = [2, 6, 8, 9, 10]\n",
    "    \n",
    "reverse_list"
   ]
  },
  {
   "cell_type": "code",
   "execution_count": 161,
   "id": "1acc1cbd-417c-4fad-92e3-1c2839447f03",
   "metadata": {},
   "outputs": [
    {
     "name": "stdout",
     "output_type": "stream",
     "text": [
      "Actual list [9, 10, 8, 6, 2]\n",
      "getting  value from list to reverse list:  2\n",
      "Current list values are remaining for visiting [9, 10, 8, 6]\n",
      "getting  value from list to reverse list:  6\n",
      "Current list values are remaining for visiting [9, 10, 8]\n",
      "getting  value from list to reverse list:  8\n",
      "Current list values are remaining for visiting [9, 10]\n",
      "getting  value from list to reverse list:  10\n",
      "Current list values are remaining for visiting [9]\n",
      "getting  value from list to reverse list:  9\n",
      "Current list values are remaining for visiting []\n"
     ]
    },
    {
     "data": {
      "text/plain": [
       "[2, 6, 8, 10, 9]"
      ]
     },
     "execution_count": 161,
     "metadata": {},
     "output_type": "execute_result"
    }
   ],
   "source": [
    "ls =  [9, 10, 8, 6, 2]\n",
    "right_index = len(ls)-1\n",
    "\n",
    "reverse_list = []\n",
    "\n",
    "print('Actual list', ls)\n",
    "for i in range(last_index, -1, -1):\n",
    "    # print(ls[i])\n",
    "    # [9, 10, 8, 6, 2]\n",
    "    # print('Actual list', ls)\n",
    "    \n",
    "    reverse_list.append(ls[i])\n",
    "    print('getting  value from list to reverse list: ', ls[i])\n",
    "    print('Current list values are remaining for visiting', ls[0:right_index] ) \n",
    "\n",
    "    \n",
    "    right_index = right_index-1\n",
    "    # ls = [2, 6, 8, 9, 10]\n",
    "reverse_list"
   ]
  },
  {
   "cell_type": "code",
   "execution_count": null,
   "id": "b93fd6b2-b192-4335-a754-ad27b6f23fd5",
   "metadata": {},
   "outputs": [],
   "source": []
  }
 ],
 "metadata": {
  "kernelspec": {
   "display_name": "Python 3 (ipykernel)",
   "language": "python",
   "name": "python3"
  },
  "language_info": {
   "codemirror_mode": {
    "name": "ipython",
    "version": 3
   },
   "file_extension": ".py",
   "mimetype": "text/x-python",
   "name": "python",
   "nbconvert_exporter": "python",
   "pygments_lexer": "ipython3",
   "version": "3.12.4"
  }
 },
 "nbformat": 4,
 "nbformat_minor": 5
}
