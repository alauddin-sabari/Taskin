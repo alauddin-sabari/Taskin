{
 "cells": [
  {
   "cell_type": "code",
   "execution_count": 15,
   "id": "ff900f7b-ebc3-432d-9699-370a2c0ae711",
   "metadata": {},
   "outputs": [
    {
     "name": "stdin",
     "output_type": "stream",
     "text": [
      "Enter your salary  8000\n",
      "Enter the percentage of tax in your country 20\n"
     ]
    }
   ],
   "source": [
    "salary = int(input('Enter your savings alary '))\n",
    "tax_pay_prc = int(input('Enter the percentage of tax in your country'))\n",
    "tax_pay = tax_pay_prc/100\n"
   ]
  },
  {
   "cell_type": "code",
   "execution_count": 30,
   "id": "0985bcaa-ae06-4930-a44d-98d6330c9d4d",
   "metadata": {},
   "outputs": [
    {
     "data": {
      "text/plain": [
       "6400.0"
      ]
     },
     "execution_count": 30,
     "metadata": {},
     "output_type": "execute_result"
    }
   ],
   "source": [
    "income = salary -( salary*tax_pay)\n",
    "income"
   ]
  },
  {
   "cell_type": "code",
   "execution_count": 32,
   "id": "e5b28b38-715b-43e7-9fd6-b84f3c7ff1e6",
   "metadata": {},
   "outputs": [
    {
     "name": "stdin",
     "output_type": "stream",
     "text": [
      "Enter your spend 245\n"
     ]
    },
    {
     "data": {
      "text/plain": [
       "6155"
      ]
     },
     "execution_count": 32,
     "metadata": {},
     "output_type": "execute_result"
    }
   ],
   "source": [
    "spend = int(input('Enter your spend'))\n",
    "savings = income-spend\n",
    "int(savings)"
   ]
  },
  {
   "cell_type": "code",
   "execution_count": 21,
   "id": "5610745f-9564-4a0f-86b4-8c4497a2cf90",
   "metadata": {},
   "outputs": [
    {
     "data": {
      "text/plain": [
       "1600.0"
      ]
     },
     "execution_count": 21,
     "metadata": {},
     "output_type": "execute_result"
    }
   ],
   "source": [
    "income = int(salary) * tax_pay\n",
    "income"
   ]
  },
  {
   "cell_type": "code",
   "execution_count": 33,
   "id": "6dd27d57-534f-430a-ad7c-42bebb818e2f",
   "metadata": {},
   "outputs": [
    {
     "data": {
      "text/plain": [
       "6155.0"
      ]
     },
     "execution_count": 33,
     "metadata": {},
     "output_type": "execute_result"
    }
   ],
   "source": [
    "savings"
   ]
  },
  {
   "cell_type": "code",
   "execution_count": 22,
   "id": "04c84b32-c783-4223-bdab-b64f24c75e9b",
   "metadata": {},
   "outputs": [
    {
     "ename": "NameError",
     "evalue": "name 'string' is not defined",
     "output_type": "error",
     "traceback": [
      "\u001b[1;31m---------------------------------------------------------------------------\u001b[0m",
      "\u001b[1;31mNameError\u001b[0m                                 Traceback (most recent call last)",
      "Cell \u001b[1;32mIn[22], line 1\u001b[0m\n\u001b[1;32m----> 1\u001b[0m \u001b[38;5;28mstr\u001b[39m \u001b[38;5;241m=\u001b[39m string\n\u001b[0;32m      2\u001b[0m \u001b[38;5;28mint\u001b[39m \u001b[38;5;241m=\u001b[39m integer\n",
      "\u001b[1;31mNameError\u001b[0m: name 'string' is not defined"
     ]
    }
   ],
   "source": [
    "str = string\n",
    "int = integer\n"
   ]
  },
  {
   "cell_type": "code",
   "execution_count": 12,
   "id": "a01b3342-d9b7-4954-b7ea-dc7dac467280",
   "metadata": {},
   "outputs": [
    {
     "data": {
      "text/plain": [
       "int"
      ]
     },
     "execution_count": 12,
     "metadata": {},
     "output_type": "execute_result"
    }
   ],
   "source": [
    "type (salary)"
   ]
  },
  {
   "cell_type": "code",
   "execution_count": 34,
   "id": "e99515be-6f51-424c-8438-b06cdf752d26",
   "metadata": {},
   "outputs": [],
   "source": [
    "savings   = 10 \n",
    "savings  = savings  + 5 "
   ]
  },
  {
   "cell_type": "code",
   "execution_count": 35,
   "id": "ad8b047a-2ed7-4d2f-be1b-25f4141de8a8",
   "metadata": {},
   "outputs": [
    {
     "data": {
      "text/plain": [
       "15"
      ]
     },
     "execution_count": 35,
     "metadata": {},
     "output_type": "execute_result"
    }
   ],
   "source": [
    "savings"
   ]
  },
  {
   "cell_type": "code",
   "execution_count": 37,
   "id": "aa5aef64-e62a-4e42-8581-4ead491ea039",
   "metadata": {},
   "outputs": [
    {
     "data": {
      "text/plain": [
       "22"
      ]
     },
     "execution_count": 37,
     "metadata": {},
     "output_type": "execute_result"
    }
   ],
   "source": [
    "savings += 7     # savings = savings + 7 \n",
    "savings"
   ]
  },
  {
   "cell_type": "code",
   "execution_count": 38,
   "id": "b76de522-3500-4db1-b403-5499c487856b",
   "metadata": {},
   "outputs": [
    {
     "data": {
      "text/plain": [
       "44"
      ]
     },
     "execution_count": 38,
     "metadata": {},
     "output_type": "execute_result"
    }
   ],
   "source": [
    "savings *= 2  \n",
    "savings\n"
   ]
  },
  {
   "cell_type": "code",
   "execution_count": 39,
   "id": "38adcaf0-5285-46c3-bfeb-a9565ef8692d",
   "metadata": {},
   "outputs": [
    {
     "data": {
      "text/plain": [
       "22.0"
      ]
     },
     "execution_count": 39,
     "metadata": {},
     "output_type": "execute_result"
    }
   ],
   "source": [
    "savings /= 2\n",
    "savings"
   ]
  },
  {
   "cell_type": "code",
   "execution_count": 41,
   "id": "f19f4557-83c9-47f2-9bbd-659d9788d04b",
   "metadata": {},
   "outputs": [
    {
     "name": "stdout",
     "output_type": "stream",
     "text": [
      "i am going to meet Taskin tomorrow at 11 am\n"
     ]
    }
   ],
   "source": [
    "name  = 'Taskin'\n",
    "print(f'i am going to meet {name} tomorrow at 11 am')"
   ]
  },
  {
   "cell_type": "code",
   "execution_count": 42,
   "id": "5b21c45a-d83e-4f2b-bd09-aab63c57208c",
   "metadata": {},
   "outputs": [
    {
     "name": "stdin",
     "output_type": "stream",
     "text": [
      "Enter your name  sabari\n"
     ]
    },
    {
     "name": "stdout",
     "output_type": "stream",
     "text": [
      "Hello sabari ,i am going to meet sir tomorrow at 11 am\n"
     ]
    }
   ],
   "source": [
    "name = input(\"Enter your name \")\n",
    "print(f'Hello {name } ,i am going to meet sir tomorrow at 11 am')"
   ]
  },
  {
   "cell_type": "code",
   "execution_count": null,
   "id": "c4828d4e-b7ed-4135-b6c0-6d458d71aa57",
   "metadata": {},
   "outputs": [],
   "source": []
  }
 ],
 "metadata": {
  "kernelspec": {
   "display_name": "Python 3 (ipykernel)",
   "language": "python",
   "name": "python3"
  },
  "language_info": {
   "codemirror_mode": {
    "name": "ipython",
    "version": 3
   },
   "file_extension": ".py",
   "mimetype": "text/x-python",
   "name": "python",
   "nbconvert_exporter": "python",
   "pygments_lexer": "ipython3",
   "version": "3.11.7"
  }
 },
 "nbformat": 4,
 "nbformat_minor": 5
}
