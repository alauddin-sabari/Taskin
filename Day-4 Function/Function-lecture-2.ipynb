{
 "cells": [
  {
   "cell_type": "markdown",
   "id": "1ef770e1-5d0e-4863-9929-ef60bbe7fdeb",
   "metadata": {
    "id": "1ef770e1-5d0e-4863-9929-ef60bbe7fdeb"
   },
   "source": [
    "## Checking   a  number is an even or odd ( also any nuber divided by specific number )"
   ]
  },
  {
   "cell_type": "markdown",
   "id": "8a90a148-63e8-48bf-827c-ac5aa82737c3",
   "metadata": {
    "id": "8a90a148-63e8-48bf-827c-ac5aa82737c3"
   },
   "source": [
    "variable_1 == variable_2   # Ture False\n",
    "variable_1 != variable_2   # Ture False\n"
   ]
  },
  {
   "cell_type": "code",
   "execution_count": 4,
   "id": "e4b43437-04b0-4bf8-8612-e65f0305b95b",
   "metadata": {
    "id": "e4b43437-04b0-4bf8-8612-e65f0305b95b",
    "outputId": "310f2c12-d867-4652-aeb5-e8908118369e"
   },
   "outputs": [
    {
     "data": {
      "text/plain": [
       "0"
      ]
     },
     "execution_count": 4,
     "metadata": {},
     "output_type": "execute_result"
    }
   ],
   "source": [
    "5 % 5"
   ]
  },
  {
   "cell_type": "code",
   "execution_count": 6,
   "id": "7bdd31aa-7d54-4c24-9c86-c9580e6c796c",
   "metadata": {
    "id": "7bdd31aa-7d54-4c24-9c86-c9580e6c796c",
    "outputId": "d8efe5db-ca96-4b8b-8ac1-c4b6064cde83"
   },
   "outputs": [
    {
     "data": {
      "text/plain": [
       "0"
      ]
     },
     "execution_count": 6,
     "metadata": {},
     "output_type": "execute_result"
    }
   ],
   "source": [
    "25 % 5"
   ]
  },
  {
   "cell_type": "code",
   "execution_count": 8,
   "id": "b49f2176-209f-4ea3-bfc8-758447ebc1d8",
   "metadata": {
    "id": "b49f2176-209f-4ea3-bfc8-758447ebc1d8",
    "outputId": "233f8929-bb43-4272-d9d9-e8698a6a9ebf"
   },
   "outputs": [
    {
     "data": {
      "text/plain": [
       "True"
      ]
     },
     "execution_count": 8,
     "metadata": {},
     "output_type": "execute_result"
    }
   ],
   "source": [
    "2 ==2\n"
   ]
  },
  {
   "cell_type": "code",
   "execution_count": 10,
   "id": "f2941251-7340-4f96-89c2-7c33f5a2d558",
   "metadata": {
    "id": "f2941251-7340-4f96-89c2-7c33f5a2d558",
    "outputId": "ee44b258-0005-43d4-fef4-e13f82681348"
   },
   "outputs": [
    {
     "name": "stdout",
     "output_type": "stream",
     "text": [
      "Equal\n"
     ]
    }
   ],
   "source": [
    "if 2==2: {\n",
    "\n",
    "    print('Equal')\n",
    "    }"
   ]
  },
  {
   "cell_type": "markdown",
   "id": "c384e6e3-f4d2-4bd5-9828-d1f1568fad5c",
   "metadata": {
    "id": "c384e6e3-f4d2-4bd5-9828-d1f1568fad5c"
   },
   "source": [
    "number = int(input('Please neter a number'))\n",
    "if number/2 ==2 :\n",
    "    print('{number}is even')\n"
   ]
  },
  {
   "cell_type": "code",
   "execution_count": null,
   "id": "b2318aea-ab7b-4ac5-96cd-a46b920f2514",
   "metadata": {
    "id": "b2318aea-ab7b-4ac5-96cd-a46b920f2514",
    "outputId": "810831e3-e2b0-40dd-920c-2d4d4ac32d5b"
   },
   "outputs": [],
   "source": [
    "number = int(input('Please neter a number'))\n",
    "if number/2 ==2 :\n",
    "    print(f'The {number} is even')\n"
   ]
  },
  {
   "cell_type": "code",
   "execution_count": null,
   "id": "0cfe25f5-4af4-4231-a32b-f907bb7693fe",
   "metadata": {
    "id": "0cfe25f5-4af4-4231-a32b-f907bb7693fe",
    "outputId": "b0203e94-b147-4c57-cc7d-75c197424a28"
   },
   "outputs": [
    {
     "name": "stdin",
     "output_type": "stream",
     "text": [
      "please type the number to know if it is even or odd 7\n"
     ]
    },
    {
     "name": "stdout",
     "output_type": "stream",
     "text": [
      "the number 7 is odd\n"
     ]
    }
   ],
   "source": [
    "AFN = int(input('please type the number to know if it is even or odd'))\n",
    "if AFN%2==1 :\n",
    "    print(f'the number {AFN} is odd')\n",
    "\n"
   ]
  },
  {
   "cell_type": "code",
   "execution_count": null,
   "id": "4f9296a5-ef90-4d5b-8323-3dc15211df7f",
   "metadata": {
    "id": "4f9296a5-ef90-4d5b-8323-3dc15211df7f",
    "outputId": "25878ecb-1b0d-48e7-85aa-7c1bb140a6c4"
   },
   "outputs": [
    {
     "data": {
      "text/plain": [
       "7"
      ]
     },
     "execution_count": 15,
     "metadata": {},
     "output_type": "execute_result"
    }
   ],
   "source": [
    "AFN = int(input('please type the number to know if it is even or odd'))\n",
    "if AFN%2!=0 :\n",
    "    print(f'the number {AFN} is odd')\n"
   ]
  },
  {
   "cell_type": "code",
   "execution_count": null,
   "id": "666a2400-191e-4b62-bcf3-c157ab8cacd7",
   "metadata": {
    "id": "666a2400-191e-4b62-bcf3-c157ab8cacd7",
    "outputId": "f3b63391-eeb3-459e-98e7-60a22c265600"
   },
   "outputs": [
    {
     "data": {
      "text/plain": [
       "7"
      ]
     },
     "execution_count": 19,
     "metadata": {},
     "output_type": "execute_result"
    }
   ],
   "source": [
    "AFN"
   ]
  },
  {
   "cell_type": "code",
   "execution_count": null,
   "id": "4a2ccc89-8369-4cca-99ad-864bcf18f7d7",
   "metadata": {
    "id": "4a2ccc89-8369-4cca-99ad-864bcf18f7d7"
   },
   "outputs": [],
   "source": [
    "def say_hello():  # define a functhion\n",
    "    print('Hello')"
   ]
  },
  {
   "cell_type": "code",
   "execution_count": null,
   "id": "b4f5f3ef-8d0c-4580-ae1a-d8ac61ec4515",
   "metadata": {
    "id": "b4f5f3ef-8d0c-4580-ae1a-d8ac61ec4515",
    "outputId": "b4d88f8e-d7a1-4387-d80b-ac4d36c10d42"
   },
   "outputs": [
    {
     "name": "stdout",
     "output_type": "stream",
     "text": [
      "Hello\n"
     ]
    }
   ],
   "source": [
    "say_hello() # function call"
   ]
  },
  {
   "cell_type": "code",
   "execution_count": null,
   "id": "eb2bcfd0-dfe1-4205-9a54-4f419c573101",
   "metadata": {
    "id": "eb2bcfd0-dfe1-4205-9a54-4f419c573101"
   },
   "outputs": [],
   "source": [
    "def is_even(number):  #number is a function argument\n",
    "    if AFN%2==0 :\n",
    "         print(f'the number {AFN} is even')\n",
    "    else:\n",
    "         print(f'the number {AFN} is odd')\n"
   ]
  },
  {
   "cell_type": "code",
   "execution_count": null,
   "id": "0e446395-ad02-4266-97ab-b157f300b6a4",
   "metadata": {
    "id": "0e446395-ad02-4266-97ab-b157f300b6a4",
    "outputId": "b874eb3e-6dbb-4fa2-cdc7-63e78b8752b4"
   },
   "outputs": [
    {
     "name": "stdout",
     "output_type": "stream",
     "text": [
      "the number 7 is odd\n"
     ]
    }
   ],
   "source": [
    "is_even(AFN)   # passing parameter (AFN) in a function"
   ]
  },
  {
   "cell_type": "code",
   "execution_count": null,
   "id": "691cf912-f092-407b-976f-5f3499c46527",
   "metadata": {
    "id": "691cf912-f092-407b-976f-5f3499c46527"
   },
   "outputs": [],
   "source": [
    "\n",
    "def multiply(n1, n2):  # argumet1, argument2\n",
    "    answer=n1*n2\n",
    "    print (f'your multiplication answer is {answer}')"
   ]
  },
  {
   "cell_type": "code",
   "execution_count": null,
   "id": "40772c79-5abb-4d50-85f8-c69a620712a1",
   "metadata": {
    "id": "40772c79-5abb-4d50-85f8-c69a620712a1",
    "outputId": "a0cd6325-6ff0-4668-c79f-3fca320f105a"
   },
   "outputs": [
    {
     "name": "stdout",
     "output_type": "stream",
     "text": [
      "your multiplication answer is 20\n"
     ]
    }
   ],
   "source": [
    "multiply(4,5)"
   ]
  },
  {
   "cell_type": "code",
   "execution_count": 4,
   "id": "edc3f5e0-b888-4484-a3dc-fa8041b51da8",
   "metadata": {
    "id": "edc3f5e0-b888-4484-a3dc-fa8041b51da8",
    "outputId": "a133dc56-9a79-4a64-b7bd-8898c74e8a86"
   },
   "outputs": [
    {
     "name": "stdin",
     "output_type": "stream",
     "text": [
      "what is you first number you want to mul 5\n",
      "what is you first number you want to mul 7\n"
     ]
    }
   ],
   "source": [
    "num_1=int(input('what is you first number you want to mul'))\n",
    "num_2=int(input('what is you first number you want to mul'))\n",
    "def mul():  # argumet1, argument2\n",
    "    answer=num_1*num_2\n",
    "    print (f'your answer is {answer}')"
   ]
  },
  {
   "cell_type": "markdown",
   "id": "c2f438df-61f6-47f5-a611-2948ebb3b9c6",
   "metadata": {
    "id": "c2f438df-61f6-47f5-a611-2948ebb3b9c6"
   },
   "source": [
    "# call the function"
   ]
  },
  {
   "cell_type": "code",
   "execution_count": null,
   "id": "d0e6acfe-4bce-498a-8db9-9ebb30967743",
   "metadata": {
    "id": "d0e6acfe-4bce-498a-8db9-9ebb30967743",
    "outputId": "11f8a41d-dc7c-44a7-d484-5e43e4bd8c7e"
   },
   "outputs": [
    {
     "name": "stdout",
     "output_type": "stream",
     "text": [
      "your answer is 25\n"
     ]
    }
   ],
   "source": [
    "mul()"
   ]
  },
  {
   "cell_type": "code",
   "execution_count": null,
   "id": "7322584e-19ef-4c53-a329-aa9a03201830",
   "metadata": {
    "id": "7322584e-19ef-4c53-a329-aa9a03201830",
    "outputId": "cfcde783-bd44-4b19-a199-bb65d4bc1899"
   },
   "outputs": [
    {
     "data": {
      "text/plain": [
       "0"
      ]
     },
     "execution_count": 24,
     "metadata": {},
     "output_type": "execute_result"
    }
   ],
   "source": [
    "8%2"
   ]
  },
  {
   "cell_type": "code",
   "execution_count": null,
   "id": "ae7413c3-9241-4a0b-9052-820775ac38ee",
   "metadata": {
    "id": "ae7413c3-9241-4a0b-9052-820775ac38ee",
    "outputId": "1bb931e2-dd0d-4ff6-faf1-7b5db87b5e04"
   },
   "outputs": [
    {
     "data": {
      "text/plain": [
       "5"
      ]
     },
     "execution_count": 3,
     "metadata": {},
     "output_type": "execute_result"
    }
   ],
   "source": [
    "num_1"
   ]
  },
  {
   "cell_type": "code",
   "execution_count": null,
   "id": "7f4510e0-e34b-47f1-a2e4-b74516449b87",
   "metadata": {
    "id": "7f4510e0-e34b-47f1-a2e4-b74516449b87",
    "outputId": "0da2030d-5804-4488-9105-c21b4aaa1829"
   },
   "outputs": [
    {
     "ename": "NameError",
     "evalue": "name 'num_2' is not defined",
     "output_type": "error",
     "traceback": [
      "\u001b[1;31m---------------------------------------------------------------------------\u001b[0m",
      "\u001b[1;31mNameError\u001b[0m                                 Traceback (most recent call last)",
      "Cell \u001b[1;32mIn[1], line 1\u001b[0m\n\u001b[1;32m----> 1\u001b[0m num_2\n",
      "\u001b[1;31mNameError\u001b[0m: name 'num_2' is not defined"
     ]
    }
   ],
   "source": [
    "num_2"
   ]
  },
  {
   "cell_type": "code",
   "execution_count": null,
   "id": "a53ad617-d87b-4425-b48c-007a117e2531",
   "metadata": {
    "id": "a53ad617-d87b-4425-b48c-007a117e2531"
   },
   "outputs": [],
   "source": [
    "\n",
    "def mul():  # argumet1, argument2\n",
    "    num_1=int(input('what is you first number you want to mul'))#\n",
    "    num_2=int(input('what is you first number you want to mul'))\n",
    "    answer=num_1*num_2\n",
    "    print (f'your answer is {answer}')"
   ]
  },
  {
   "cell_type": "code",
   "execution_count": null,
   "id": "e526e4b3-6e34-47a7-a23d-878633dc5a70",
   "metadata": {
    "id": "e526e4b3-6e34-47a7-a23d-878633dc5a70",
    "outputId": "abd817d4-9299-44a8-b3b2-768415fb0768"
   },
   "outputs": [
    {
     "name": "stdin",
     "output_type": "stream",
     "text": [
      "what is you first number you want to mul 7\n",
      "what is you first number you want to mul 8\n"
     ]
    },
    {
     "name": "stdout",
     "output_type": "stream",
     "text": [
      "your answer is 56\n"
     ]
    }
   ],
   "source": [
    "mul()"
   ]
  },
  {
   "cell_type": "code",
   "execution_count": null,
   "id": "36a02236-1304-4838-9c51-f2b64fc79d76",
   "metadata": {
    "id": "36a02236-1304-4838-9c51-f2b64fc79d76",
    "outputId": "48b871ab-4629-4911-f2dd-38948204f54c"
   },
   "outputs": [
    {
     "ename": "NameError",
     "evalue": "name 'num_2' is not defined",
     "output_type": "error",
     "traceback": [
      "\u001b[1;31m---------------------------------------------------------------------------\u001b[0m",
      "\u001b[1;31mNameError\u001b[0m                                 Traceback (most recent call last)",
      "Cell \u001b[1;32mIn[5], line 1\u001b[0m\n\u001b[1;32m----> 1\u001b[0m num_2\n",
      "\u001b[1;31mNameError\u001b[0m: name 'num_2' is not defined"
     ]
    }
   ],
   "source": [
    "num_2"
   ]
  },
  {
   "cell_type": "code",
   "execution_count": null,
   "id": "eaa4f582-8120-4a2d-b2d5-f18ba5571cb4",
   "metadata": {
    "id": "eaa4f582-8120-4a2d-b2d5-f18ba5571cb4"
   },
   "outputs": [],
   "source": []
  },
  {
   "cell_type": "markdown",
   "id": "444dcebb-193f-48de-a4f7-13a40417cbdb",
   "metadata": {
    "id": "444dcebb-193f-48de-a4f7-13a40417cbdb"
   },
   "source": [
    "- we  don't need to maintain  the sequence in function defination and defining variable\n",
    "- whenever we call function that time function will return the output"
   ]
  },
  {
   "cell_type": "code",
   "execution_count": null,
   "id": "0d78c672-cd86-4b4b-aa79-5cd5b8fe0f1c",
   "metadata": {
    "id": "0d78c672-cd86-4b4b-aa79-5cd5b8fe0f1c",
    "outputId": "e3691064-b003-452b-e1a5-ac16e4dcd641"
   },
   "outputs": [
    {
     "name": "stdin",
     "output_type": "stream",
     "text": [
      "what is you first number you want to mul 10\n",
      "what is you first number you want to mul 20\n"
     ]
    }
   ],
   "source": [
    "num_3=int(input('what is you first number you want to mul'))#\n",
    "num_4=int(input('what is you first number you want to mul'))"
   ]
  },
  {
   "cell_type": "code",
   "execution_count": null,
   "id": "8c3d77a8-6f6c-49d6-b737-974770649295",
   "metadata": {
    "id": "8c3d77a8-6f6c-49d6-b737-974770649295",
    "outputId": "ce292eef-d33a-41bc-8cc3-d959a695a78e"
   },
   "outputs": [
    {
     "name": "stdout",
     "output_type": "stream",
     "text": [
      "your multiplication answer is 200\n"
     ]
    }
   ],
   "source": [
    "multiply(num_3, num_4)"
   ]
  },
  {
   "cell_type": "code",
   "execution_count": null,
   "id": "ea91307a-b5e5-45f4-971a-bcb3c6c931c0",
   "metadata": {
    "id": "ea91307a-b5e5-45f4-971a-bcb3c6c931c0"
   },
   "outputs": [],
   "source": [
    "\n",
    "def multiply(n1=2, n2=3):  # argumet1, argument2\n",
    "    answer=n1*n2\n",
    "    print(f'number n1 is {n1}')\n",
    "    print(f'number n2 is {n2}')\n",
    "    print (f'your multiplication answer is {answer}')"
   ]
  },
  {
   "cell_type": "code",
   "execution_count": null,
   "id": "45da46fc-ab44-471f-93d3-508ee75f9ad5",
   "metadata": {
    "id": "45da46fc-ab44-471f-93d3-508ee75f9ad5",
    "outputId": "0bc5e9eb-7f42-415f-8778-56ad9399b134"
   },
   "outputs": [
    {
     "name": "stdout",
     "output_type": "stream",
     "text": [
      "number n1 is 2\n",
      "number n2 is 3\n",
      "your multiplication answer is 6\n"
     ]
    }
   ],
   "source": [
    "multiply()"
   ]
  },
  {
   "cell_type": "code",
   "execution_count": null,
   "id": "3d59ef4a-1060-47dd-b397-a632076c5931",
   "metadata": {
    "id": "3d59ef4a-1060-47dd-b397-a632076c5931",
    "outputId": "9bd9e7cf-61a0-4cf7-a6b4-e34fe674bdaf"
   },
   "outputs": [
    {
     "name": "stdout",
     "output_type": "stream",
     "text": [
      "number n1 is 4\n",
      "number n2 is 3\n",
      "your multiplication answer is 12\n"
     ]
    }
   ],
   "source": [
    "multiply(4)"
   ]
  },
  {
   "cell_type": "code",
   "execution_count": null,
   "id": "5e3eda3d-faf2-4643-a668-76b65970a656",
   "metadata": {
    "id": "5e3eda3d-faf2-4643-a668-76b65970a656",
    "outputId": "21cc5be7-3342-45cf-c99d-c0e4d0525179"
   },
   "outputs": [
    {
     "name": "stdout",
     "output_type": "stream",
     "text": [
      "number n1 is 4\n",
      "number n2 is 5\n",
      "your multiplication answer is 20\n"
     ]
    }
   ],
   "source": [
    "multiply(4,5)"
   ]
  },
  {
   "cell_type": "code",
   "execution_count": 22,
   "id": "4882b797-69c7-41bf-b2d7-c2c01f27336c",
   "metadata": {
    "id": "4882b797-69c7-41bf-b2d7-c2c01f27336c"
   },
   "outputs": [],
   "source": [
    "def size ():\n",
    "    length=int(input(f'what is the length'))\n",
    "    hieght=int(input(f'and what is yopur hieght'))\n",
    "    area=length * hieght\n",
    "    print(f'your total area is {area}')"
   ]
  },
  {
   "cell_type": "code",
   "execution_count": null,
   "id": "c14d4bd5-a965-4f52-9525-34bdc39ba2d8",
   "metadata": {
    "id": "c14d4bd5-a965-4f52-9525-34bdc39ba2d8",
    "outputId": "3e736ee3-6a3d-46f1-e66b-b0bf69893a1e"
   },
   "outputs": [],
   "source": [
    "size()"
   ]
  },
  {
   "cell_type": "code",
   "execution_count": 2,
   "id": "ebeaa60e-a36e-4973-bbc4-c9ba994dcf33",
   "metadata": {
    "executionInfo": {
     "elapsed": 267,
     "status": "ok",
     "timestamp": 1720132141409,
     "user": {
      "displayName": "Taskin Rah",
      "userId": "03902024169695093024"
     },
     "user_tz": -60
    },
    "id": "ebeaa60e-a36e-4973-bbc4-c9ba994dcf33"
   },
   "outputs": [],
   "source": [
    "def coffee_cup_size():\n",
    "    amount=int(input(f'please input your amount of coffee for a cup'))\n",
    "    toppings=int(input(f'how many topping do you want '))\n",
    "    volume=toppings * 5\n",
    "    if volume+amount<=350:\n",
    "        print(f'your cup size is a small')\n",
    "\n",
    "    elif volume+amount<=520:\n",
    "        print(f'your cup size is a middium')\n",
    "\n",
    "    else:\n",
    "        print(f'you need a large')"
   ]
  },
  {
   "cell_type": "code",
   "execution_count": 4,
   "id": "0866454a-0837-4f2e-bde1-bf1cd0e55540",
   "metadata": {
    "colab": {
     "base_uri": "https://localhost:8080/"
    },
    "executionInfo": {
     "elapsed": 48656,
     "status": "ok",
     "timestamp": 1720132192849,
     "user": {
      "displayName": "Taskin Rah",
      "userId": "03902024169695093024"
     },
     "user_tz": -60
    },
    "id": "0866454a-0837-4f2e-bde1-bf1cd0e55540",
    "outputId": "f29dac3d-cb8d-49d8-a383-e0712f3d6839"
   },
   "outputs": [
    {
     "name": "stdin",
     "output_type": "stream",
     "text": [
      "please input your amount of coffee for a cup 320\n",
      "how many topping do you want  3\n"
     ]
    },
    {
     "name": "stdout",
     "output_type": "stream",
     "text": [
      "your cup size is a small\n"
     ]
    }
   ],
   "source": [
    "coffee_cup_size()"
   ]
  },
  {
   "cell_type": "code",
   "execution_count": null,
   "id": "bePuhYTH3Q8v",
   "metadata": {
    "id": "bePuhYTH3Q8v"
   },
   "outputs": [],
   "source": []
  }
 ],
 "metadata": {
  "colab": {
   "provenance": []
  },
  "kernelspec": {
   "display_name": "Python 3 (ipykernel)",
   "language": "python",
   "name": "python3"
  },
  "language_info": {
   "codemirror_mode": {
    "name": "ipython",
    "version": 3
   },
   "file_extension": ".py",
   "mimetype": "text/x-python",
   "name": "python",
   "nbconvert_exporter": "python",
   "pygments_lexer": "ipython3",
   "version": "3.12.4"
  }
 },
 "nbformat": 4,
 "nbformat_minor": 5
}
