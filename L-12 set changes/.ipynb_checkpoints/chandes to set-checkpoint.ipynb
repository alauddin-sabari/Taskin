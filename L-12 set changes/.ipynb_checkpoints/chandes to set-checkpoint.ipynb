{
 "cells": [
  {
   "cell_type": "code",
   "execution_count": 3,
   "id": "23d15b52-4da7-49f7-861e-911e11fa5b9c",
   "metadata": {},
   "outputs": [],
   "source": [
    "myset={\n",
    "    'pet 1': 'rat',\n",
    "    'mom':'anna',\n",
    "    'dad':'dave',\n",
    "    'kid 1':'sam'\n",
    "}\n",
    "def adding_set(name,changes):\n",
    "    myset[name]=changes\n",
    "    print(myset)"
   ]
  },
  {
   "cell_type": "code",
   "execution_count": 7,
   "id": "81e24ac3-3d70-4379-8053-18feee2e04be",
   "metadata": {},
   "outputs": [
    {
     "name": "stdout",
     "output_type": "stream",
     "text": [
      "{'pet 1': 'rat', 'mom': 'jessy', 'dad': 'dave', 'kid 1': 'sam'}\n"
     ]
    }
   ],
   "source": [
    "adding_set('mom','jessy')"
   ]
  },
  {
   "cell_type": "code",
   "execution_count": null,
   "id": "8930eac3-df99-4bb6-8393-1cc6a543ceab",
   "metadata": {},
   "outputs": [],
   "source": []
  }
 ],
 "metadata": {
  "kernelspec": {
   "display_name": "Python 3 (ipykernel)",
   "language": "python",
   "name": "python3"
  },
  "language_info": {
   "codemirror_mode": {
    "name": "ipython",
    "version": 3
   },
   "file_extension": ".py",
   "mimetype": "text/x-python",
   "name": "python",
   "nbconvert_exporter": "python",
   "pygments_lexer": "ipython3",
   "version": "3.12.4"
  }
 },
 "nbformat": 4,
 "nbformat_minor": 5
}
