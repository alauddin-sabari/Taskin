{
 "cells": [
  {
   "cell_type": "code",
   "execution_count": 2,
   "id": "73167de7-d5ae-4a61-9405-3193b3b04d85",
   "metadata": {},
   "outputs": [],
   "source": [
    "mydict = {\n",
    "    'brand' : 'phonix',\n",
    "    'model' : 235,\n",
    "    'year' : 2021\n",
    "}"
   ]
  },
  {
   "cell_type": "code",
   "execution_count": 3,
   "id": "bf36f159-69d2-4430-b981-4550631920ef",
   "metadata": {},
   "outputs": [
    {
     "data": {
      "text/plain": [
       "{'brand': 'phonix', 'model': 235, 'year': 2021}"
      ]
     },
     "execution_count": 3,
     "metadata": {},
     "output_type": "execute_result"
    }
   ],
   "source": [
    "mydict"
   ]
  },
  {
   "cell_type": "code",
   "execution_count": 19,
   "id": "b1bc3429-ca03-4d1f-ad82-e112d7d5c210",
   "metadata": {},
   "outputs": [],
   "source": [
    "my_cycle = {\n",
    "    'brand' : 'phonix',\n",
    "    'model' : 235,\n",
    "    'year' : 2021,\n",
    "    'wheel_size':32\n",
    "}"
   ]
  },
  {
   "cell_type": "code",
   "execution_count": 7,
   "id": "27172fea-cf2c-4231-a062-4dfccb4798b6",
   "metadata": {},
   "outputs": [
    {
     "data": {
      "text/plain": [
       "'phonix'"
      ]
     },
     "execution_count": 7,
     "metadata": {},
     "output_type": "execute_result"
    }
   ],
   "source": [
    "my_cycle['brand']"
   ]
  },
  {
   "cell_type": "code",
   "execution_count": 9,
   "id": "4647285a-7025-4721-a5fb-3c411d5bce04",
   "metadata": {},
   "outputs": [
    {
     "data": {
      "text/plain": [
       "'phonix'"
      ]
     },
     "execution_count": 9,
     "metadata": {},
     "output_type": "execute_result"
    }
   ],
   "source": [
    "my_lst = ['phonix', '235', '2021']\n",
    "my_lst[0]"
   ]
  },
  {
   "cell_type": "code",
   "execution_count": 15,
   "id": "f5a3e4b3-adca-4b5f-abc5-b45ac0d6bbd3",
   "metadata": {},
   "outputs": [
    {
     "data": {
      "text/plain": [
       "32"
      ]
     },
     "execution_count": 15,
     "metadata": {},
     "output_type": "execute_result"
    }
   ],
   "source": [
    "my_cycle['wheel_size']"
   ]
  },
  {
   "cell_type": "markdown",
   "id": "bcb620b6-a52e-4439-97a2-8778551ba487",
   "metadata": {},
   "source": [
    "# Adding a feature of my car"
   ]
  },
  {
   "cell_type": "code",
   "execution_count": 17,
   "id": "f7079737-730d-43a8-a05e-04a7797cb33e",
   "metadata": {},
   "outputs": [],
   "source": [
    "my_cycle['color'] = 'black'"
   ]
  },
  {
   "cell_type": "code",
   "execution_count": 19,
   "id": "45ca1896-c42c-41ac-b2c1-c04b77528efe",
   "metadata": {},
   "outputs": [
    {
     "data": {
      "text/plain": [
       "{'brand': 'phonix',\n",
       " 'model': 235,\n",
       " 'year': 2021,\n",
       " 'wheel_size': 32,\n",
       " 'color': 'black'}"
      ]
     },
     "execution_count": 19,
     "metadata": {},
     "output_type": "execute_result"
    }
   ],
   "source": [
    "my_cycle"
   ]
  },
  {
   "cell_type": "code",
   "execution_count": 8,
   "id": "0e87599b-0c61-4822-9881-e3774fc6c5bb",
   "metadata": {},
   "outputs": [],
   "source": [
    "my_car={\n",
    "    'brand':'honda',\n",
    "    'model': 'jaz',\n",
    "    'year' :'2007',\n",
    "    'wheel_size':126,\n",
    "    'coler':'light blue',\n",
    "    'miles': 26785 \n",
    "}"
   ]
  },
  {
   "cell_type": "code",
   "execution_count": 4,
   "id": "68c45d1d-106a-4922-87c4-72401b421c45",
   "metadata": {},
   "outputs": [
    {
     "data": {
      "text/plain": [
       "{'brand': 'honda',\n",
       " 'model': 'jaz',\n",
       " 'year': '2007',\n",
       " 'wheel_size': 126,\n",
       " 'coler': 'light blue',\n",
       " 'miles': 26785}"
      ]
     },
     "execution_count": 4,
     "metadata": {},
     "output_type": "execute_result"
    }
   ],
   "source": [
    "my_car"
   ]
  },
  {
   "cell_type": "markdown",
   "id": "065b48d9-b685-42a0-81fa-eff0f7da58a6",
   "metadata": {},
   "source": [
    "# Updating specific feature of my car"
   ]
  },
  {
   "cell_type": "code",
   "execution_count": 21,
   "id": "569b44c1-d859-4642-aa5b-85f06f0420c8",
   "metadata": {},
   "outputs": [],
   "source": [
    "my_cycle['model']  = 300"
   ]
  },
  {
   "cell_type": "code",
   "execution_count": 23,
   "id": "c16ec668-9eec-40b2-a4fc-a6f17eee40e8",
   "metadata": {},
   "outputs": [
    {
     "data": {
      "text/plain": [
       "{'brand': 'phonix',\n",
       " 'model': 300,\n",
       " 'year': 2021,\n",
       " 'wheel_size': 32,\n",
       " 'color': 'black'}"
      ]
     },
     "execution_count": 23,
     "metadata": {},
     "output_type": "execute_result"
    }
   ],
   "source": [
    "my_cycle"
   ]
  },
  {
   "cell_type": "code",
   "execution_count": 6,
   "id": "1d0bea56-0487-400b-a64b-3087376efafc",
   "metadata": {},
   "outputs": [
    {
     "ename": "NameError",
     "evalue": "name 'my_car' is not defined",
     "output_type": "error",
     "traceback": [
      "\u001b[1;31m---------------------------------------------------------------------------\u001b[0m",
      "\u001b[1;31mNameError\u001b[0m                                 Traceback (most recent call last)",
      "Cell \u001b[1;32mIn[6], line 1\u001b[0m\n\u001b[1;32m----> 1\u001b[0m my_car[\u001b[38;5;124m'\u001b[39m\u001b[38;5;124mmiles\u001b[39m\u001b[38;5;124m'\u001b[39m] \u001b[38;5;241m=\u001b[39m \u001b[38;5;241m30041\u001b[39m\n",
      "\u001b[1;31mNameError\u001b[0m: name 'my_car' is not defined"
     ]
    }
   ],
   "source": [
    "my_car['miles'] = 30041\n"
   ]
  },
  {
   "cell_type": "code",
   "execution_count": 8,
   "id": "23a33917-803e-42ee-a758-aeddde8f2377",
   "metadata": {},
   "outputs": [
    {
     "data": {
      "text/plain": [
       "{'brand': 'honda',\n",
       " 'model': 'jaz',\n",
       " 'year': '2007',\n",
       " 'wheel_size': 126,\n",
       " 'coler': 'light blue',\n",
       " 'miles': 30041}"
      ]
     },
     "execution_count": 8,
     "metadata": {},
     "output_type": "execute_result"
    }
   ],
   "source": [
    "my_car"
   ]
  },
  {
   "cell_type": "code",
   "execution_count": 12,
   "id": "227655ee-2974-4de2-90ab-efa6f39ea44b",
   "metadata": {},
   "outputs": [
    {
     "data": {
      "text/plain": [
       "{'brand': 'honda',\n",
       " 'model': 'jaz',\n",
       " 'year': '2007',\n",
       " 'wheel_size': 33,\n",
       " 'coler': 'light blue',\n",
       " 'miles': 26785}"
      ]
     },
     "execution_count": 12,
     "metadata": {},
     "output_type": "execute_result"
    }
   ],
   "source": [
    "my_car ['wheel_size']=33\n",
    "my_car\n"
   ]
  },
  {
   "cell_type": "markdown",
   "id": "654ad5e5-67cd-4646-a740-7032577bce6d",
   "metadata": {},
   "source": [
    "#   Task Please finish the tuturials ( Github & command line)"
   ]
  },
  {
   "cell_type": "code",
   "execution_count": 21,
   "id": "8b8d203e-98b0-4c00-a60a-47338bbc9594",
   "metadata": {},
   "outputs": [],
   "source": [
    "my_cycle ['color']='blue'"
   ]
  },
  {
   "cell_type": "code",
   "execution_count": 23,
   "id": "1907fe11-4b82-4609-8f89-29194a7eb2af",
   "metadata": {},
   "outputs": [
    {
     "data": {
      "text/plain": [
       "{'brand': 'phonix',\n",
       " 'model': 235,\n",
       " 'year': 2021,\n",
       " 'wheel_size': 32,\n",
       " 'color': 'blue'}"
      ]
     },
     "execution_count": 23,
     "metadata": {},
     "output_type": "execute_result"
    }
   ],
   "source": [
    "my_cycle"
   ]
  },
  {
   "cell_type": "code",
   "execution_count": null,
   "id": "9825db63-69f6-4893-8a72-9c2c08b34259",
   "metadata": {},
   "outputs": [],
   "source": []
  }
 ],
 "metadata": {
  "kernelspec": {
   "display_name": "Python 3 (ipykernel)",
   "language": "python",
   "name": "python3"
  },
  "language_info": {
   "codemirror_mode": {
    "name": "ipython",
    "version": 3
   },
   "file_extension": ".py",
   "mimetype": "text/x-python",
   "name": "python",
   "nbconvert_exporter": "python",
   "pygments_lexer": "ipython3",
   "version": "3.12.4"
  }
 },
 "nbformat": 4,
 "nbformat_minor": 5
}
