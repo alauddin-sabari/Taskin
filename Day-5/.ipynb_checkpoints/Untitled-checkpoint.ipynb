{
 "cells": [
  {
   "cell_type": "markdown",
   "id": "a1db9aa6-a6fe-4fed-a69e-a58f7b790650",
   "metadata": {},
   "source": [
    "#### Just printing any value is not the prupose of function\n",
    "#### we need some return from a function"
   ]
  },
  {
   "cell_type": "code",
   "execution_count": 1,
   "id": "abfda90d-c1c9-4b3f-a42f-2a3b740f2e2f",
   "metadata": {},
   "outputs": [],
   "source": [
    "# This functhion is not returning anything\n",
    "def multiply(n1=2, n2=3):  # argumet1, argument2\n",
    "    answer=n1*n2\n",
    "    print(f'number n1 is {n1}')\n",
    "    print(f'number n2 is {n2}')\n",
    "    print (f'your multiplication answer is {answer}')"
   ]
  },
  {
   "cell_type": "code",
   "execution_count": 2,
   "id": "c956be97-458d-4def-9d8c-4464040cd5ba",
   "metadata": {},
   "outputs": [
    {
     "name": "stdout",
     "output_type": "stream",
     "text": [
      "number n1 is 2\n",
      "number n2 is 3\n",
      "your multiplication answer is 6\n"
     ]
    }
   ],
   "source": [
    "multiply()"
   ]
  },
  {
   "cell_type": "code",
   "execution_count": 3,
   "id": "64532192-b44e-4220-99f8-9fd29cbadc76",
   "metadata": {},
   "outputs": [
    {
     "ename": "NameError",
     "evalue": "name 'answer' is not defined",
     "output_type": "error",
     "traceback": [
      "\u001b[1;31m---------------------------------------------------------------------------\u001b[0m",
      "\u001b[1;31mNameError\u001b[0m                                 Traceback (most recent call last)",
      "Cell \u001b[1;32mIn[3], line 1\u001b[0m\n\u001b[1;32m----> 1\u001b[0m answer\n",
      "\u001b[1;31mNameError\u001b[0m: name 'answer' is not defined"
     ]
    }
   ],
   "source": [
    "answer\n",
    "# We will get error since answer is not in global scope"
   ]
  },
  {
   "cell_type": "code",
   "execution_count": 4,
   "id": "3b29a898-9961-48cc-80fd-3012ce7d9f8a",
   "metadata": {},
   "outputs": [],
   "source": [
    "# This functhion is not returning anything\n",
    "def multiply(n1=2, n2=3):  # argumet1, argument2\n",
    "    answer=n1*n2\n",
    "    print(f'number n1 is {n1}')\n",
    "    print(f'number n2 is {n2}')\n",
    "    print (f'your multiplication answer is {answer}')\n",
    "    return answer"
   ]
  },
  {
   "cell_type": "code",
   "execution_count": 5,
   "id": "e040d96c-0205-492f-b6d2-75f1359cee9d",
   "metadata": {},
   "outputs": [
    {
     "ename": "NameError",
     "evalue": "name 'answer' is not defined",
     "output_type": "error",
     "traceback": [
      "\u001b[1;31m---------------------------------------------------------------------------\u001b[0m",
      "\u001b[1;31mNameError\u001b[0m                                 Traceback (most recent call last)",
      "Cell \u001b[1;32mIn[5], line 1\u001b[0m\n\u001b[1;32m----> 1\u001b[0m answer\n",
      "\u001b[1;31mNameError\u001b[0m: name 'answer' is not defined"
     ]
    }
   ],
   "source": [
    "answer"
   ]
  },
  {
   "cell_type": "code",
   "execution_count": 6,
   "id": "018c04aa-d48b-41bc-aa43-32172e51036a",
   "metadata": {},
   "outputs": [
    {
     "name": "stdout",
     "output_type": "stream",
     "text": [
      "number n1 is 2\n",
      "number n2 is 3\n",
      "your multiplication answer is 6\n"
     ]
    },
    {
     "data": {
      "text/plain": [
       "6"
      ]
     },
     "execution_count": 6,
     "metadata": {},
     "output_type": "execute_result"
    }
   ],
   "source": [
    "multiply()"
   ]
  },
  {
   "cell_type": "code",
   "execution_count": 7,
   "id": "3cdf8008-ff68-4f09-b1f7-66c16bc1563f",
   "metadata": {},
   "outputs": [
    {
     "ename": "NameError",
     "evalue": "name 'answer' is not defined",
     "output_type": "error",
     "traceback": [
      "\u001b[1;31m---------------------------------------------------------------------------\u001b[0m",
      "\u001b[1;31mNameError\u001b[0m                                 Traceback (most recent call last)",
      "Cell \u001b[1;32mIn[7], line 1\u001b[0m\n\u001b[1;32m----> 1\u001b[0m answer\n",
      "\u001b[1;31mNameError\u001b[0m: name 'answer' is not defined"
     ]
    }
   ],
   "source": [
    "answer"
   ]
  },
  {
   "cell_type": "code",
   "execution_count": 8,
   "id": "54a62620-d46f-492f-a3b4-1328f7dc6b91",
   "metadata": {},
   "outputs": [
    {
     "name": "stdout",
     "output_type": "stream",
     "text": [
      "number n1 is 2\n",
      "number n2 is 3\n",
      "your multiplication answer is 6\n"
     ]
    }
   ],
   "source": [
    "multiply_result = multiply()"
   ]
  },
  {
   "cell_type": "code",
   "execution_count": 9,
   "id": "559eabba-d19a-4564-b5a2-136c27dc8a5c",
   "metadata": {},
   "outputs": [
    {
     "ename": "NameError",
     "evalue": "name 'answer' is not defined",
     "output_type": "error",
     "traceback": [
      "\u001b[1;31m---------------------------------------------------------------------------\u001b[0m",
      "\u001b[1;31mNameError\u001b[0m                                 Traceback (most recent call last)",
      "Cell \u001b[1;32mIn[9], line 1\u001b[0m\n\u001b[1;32m----> 1\u001b[0m answer\n",
      "\u001b[1;31mNameError\u001b[0m: name 'answer' is not defined"
     ]
    }
   ],
   "source": [
    "answer"
   ]
  },
  {
   "cell_type": "code",
   "execution_count": 10,
   "id": "aa937e83-ceca-468c-b082-2b76f9287a9a",
   "metadata": {},
   "outputs": [
    {
     "data": {
      "text/plain": [
       "6"
      ]
     },
     "execution_count": 10,
     "metadata": {},
     "output_type": "execute_result"
    }
   ],
   "source": [
    "multiply_result"
   ]
  },
  {
   "cell_type": "code",
   "execution_count": null,
   "id": "90639afd-e887-452f-807a-64577cc99c41",
   "metadata": {},
   "outputs": [],
   "source": []
  },
  {
   "cell_type": "code",
   "execution_count": null,
   "id": "1bb45c6f-62a8-4771-8208-7346fa12873f",
   "metadata": {},
   "outputs": [],
   "source": []
  },
  {
   "cell_type": "markdown",
   "id": "86ebbeea-a70c-4f49-9409-d63134069f63",
   "metadata": {},
   "source": [
    "## Finding a number is prime or not"
   ]
  },
  {
   "cell_type": "code",
   "execution_count": null,
   "id": "3dadfaea-1bab-421f-8129-3fde23d984e2",
   "metadata": {},
   "outputs": [],
   "source": [
    "def is_prime(number):\n",
    "    #if else logic\n",
    "    # ...\n",
    "\n",
    "    "
   ]
  }
 ],
 "metadata": {
  "kernelspec": {
   "display_name": "Python 3 (ipykernel)",
   "language": "python",
   "name": "python3"
  },
  "language_info": {
   "codemirror_mode": {
    "name": "ipython",
    "version": 3
   },
   "file_extension": ".py",
   "mimetype": "text/x-python",
   "name": "python",
   "nbconvert_exporter": "python",
   "pygments_lexer": "ipython3",
   "version": "3.11.7"
  }
 },
 "nbformat": 4,
 "nbformat_minor": 5
}
