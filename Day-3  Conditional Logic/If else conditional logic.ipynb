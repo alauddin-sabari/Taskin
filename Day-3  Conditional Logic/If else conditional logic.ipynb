{
 "cells": [
  {
   "cell_type": "code",
   "execution_count": 36,
   "id": "95744d59-46c5-4cb5-aa4b-59c42a72dac4",
   "metadata": {},
   "outputs": [
    {
     "name": "stdin",
     "output_type": "stream",
     "text": [
      "Enter a number 10\n"
     ]
    },
    {
     "name": "stdout",
     "output_type": "stream",
     "text": [
      "Your card only contains 10 dollar there is no amount for tax pay\n"
     ]
    }
   ],
   "source": [
    "my_card_balance = int(input('Enter a number'))\n",
    "required_price = 10\n",
    "paid = \"You have successfully paid\"\n",
    "payment_failed = \"Your card doesn't have anough balance to purchase the product\"\n",
    "\n",
    "\n",
    "if my_card_balance > required_price:    #   (Ture or False)\n",
    "    print(f'{paid  }  {required_price }  amount')\n",
    "    my_card_balance = my_card_balance -10\n",
    "    \n",
    "elif my_card_balance < required_price:\n",
    "        print(f'{payment_failed}')\n",
    "\n",
    "else:\n",
    "    print(\"Your card only contains 10 dollar, there is no amount for tax pay\")\n",
    "    "
   ]
  },
  {
   "cell_type": "code",
   "execution_count": 35,
   "id": "43412c20-37fb-4b1b-8a3a-48bcbb07ae8e",
   "metadata": {},
   "outputs": [
    {
     "data": {
      "text/plain": [
       "10"
      ]
     },
     "execution_count": 35,
     "metadata": {},
     "output_type": "execute_result"
    }
   ],
   "source": [
    "my_card_balance"
   ]
  },
  {
   "cell_type": "code",
   "execution_count": null,
   "id": "7afa7ace-be7a-406e-8b94-616af8887d2f",
   "metadata": {},
   "outputs": [],
   "source": [
    "x -=5  # x = x -5"
   ]
  },
  {
   "cell_type": "code",
   "execution_count": 23,
   "id": "65838324-cb2f-4314-8021-168eedba272e",
   "metadata": {},
   "outputs": [
    {
     "data": {
      "text/plain": [
       "True"
      ]
     },
     "execution_count": 23,
     "metadata": {},
     "output_type": "execute_result"
    }
   ],
   "source": [
    "my_card_balance = 10\n",
    "my_card_balance >= required_price"
   ]
  },
  {
   "cell_type": "code",
   "execution_count": null,
   "id": "e3648592-e0b2-4a18-9b44-0c9c07b17e20",
   "metadata": {},
   "outputs": [],
   "source": []
  }
 ],
 "metadata": {
  "kernelspec": {
   "display_name": "Python 3 (ipykernel)",
   "language": "python",
   "name": "python3"
  },
  "language_info": {
   "codemirror_mode": {
    "name": "ipython",
    "version": 3
   },
   "file_extension": ".py",
   "mimetype": "text/x-python",
   "name": "python",
   "nbconvert_exporter": "python",
   "pygments_lexer": "ipython3",
   "version": "3.12.4"
  }
 },
 "nbformat": 4,
 "nbformat_minor": 5
}
