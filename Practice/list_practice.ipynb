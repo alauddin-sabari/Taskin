{
 "cells": [
  {
   "cell_type": "code",
   "execution_count": null,
   "id": "3b84cfac-bee2-48a5-b1a1-db578df262a1",
   "metadata": {},
   "outputs": [],
   "source": [
    "# sum; finding specific elements from a list (odd number list); minimum and maximum number finidng\n",
    "# 1-10 "
   ]
  },
  {
   "cell_type": "code",
   "execution_count": 16,
   "id": "6194092d-df80-40fc-bd89-389c266c14a8",
   "metadata": {},
   "outputs": [
    {
     "name": "stdout",
     "output_type": "stream",
     "text": [
      "your answer is 22\n",
      "22\n"
     ]
    }
   ],
   "source": [
    "def list_sum(numbers):\n",
    "\n",
    "    addition = 0 \n",
    "    for n in numbers:\n",
    "        \n",
    "         addition+=n\n",
    "    print(f'your answer is {addition}')\n",
    "    return addition \n",
    "numbers = [1, 2, 3, 4, 5,7]\n",
    "print(list_sum(numbers))"
   ]
  },
  {
   "cell_type": "code",
   "execution_count": 39,
   "id": "7b08d23f-eba9-4502-816c-44105946dce6",
   "metadata": {},
   "outputs": [],
   "source": [
    "def find_odd_numbers(lst):\n",
    "    odd_list = []\n",
    "    for o in lst:\n",
    "        if o%2==1:\n",
    "            odd_list.append(o)\n",
    "    return odd_list     \n",
    "\n",
    "\n"
   ]
  },
  {
   "cell_type": "code",
   "execution_count": 43,
   "id": "cf2dd221-a104-4686-8e25-6bf7f367e7b3",
   "metadata": {},
   "outputs": [
    {
     "data": {
      "text/plain": [
       "[1, 3, 5, 7, 9, 13]"
      ]
     },
     "execution_count": 43,
     "metadata": {},
     "output_type": "execute_result"
    }
   ],
   "source": [
    "lst = [1, 2, 3, 4, 5, 6,7,9,13]\n",
    "find_odd_numbers(lst)"
   ]
  },
  {
   "cell_type": "markdown",
   "id": "eb87eaf1-23b4-4795-b2cf-ca8993efa821",
   "metadata": {},
   "source": [
    "# [2, 7, 5, 3, 9 ]"
   ]
  },
  {
   "cell_type": "code",
   "execution_count": null,
   "id": "bf00d677-1714-40a0-8d8e-77de43a95926",
   "metadata": {},
   "outputs": [],
   "source": [
    "for n in "
   ]
  },
  {
   "cell_type": "code",
   "execution_count": 101,
   "id": "ac23090a-0d47-44e1-a8cd-40a45799b5d1",
   "metadata": {},
   "outputs": [
    {
     "data": {
      "text/plain": [
       "9"
      ]
     },
     "execution_count": 101,
     "metadata": {},
     "output_type": "execute_result"
    }
   ],
   "source": [
    "lst = [2, 7, 5, 3, 1, 9 ]\n",
    "max(lst)"
   ]
  },
  {
   "cell_type": "code",
   "execution_count": 81,
   "id": "ac26e277-8240-4c4f-86c3-e6acad4c2fe1",
   "metadata": {},
   "outputs": [
    {
     "data": {
      "text/plain": [
       "False"
      ]
     },
     "execution_count": 81,
     "metadata": {},
     "output_type": "execute_result"
    }
   ],
   "source": [
    "2>2"
   ]
  },
  {
   "cell_type": "code",
   "execution_count": 87,
   "id": "3ca12b43-446c-42c8-ba7d-d619b0cf3646",
   "metadata": {},
   "outputs": [
    {
     "data": {
      "text/plain": [
       "True"
      ]
     },
     "execution_count": 87,
     "metadata": {},
     "output_type": "execute_result"
    }
   ],
   "source": [
    "2>=2"
   ]
  },
  {
   "cell_type": "code",
   "execution_count": 89,
   "id": "3ef54ccb-f88c-4228-b345-9081f9a2e73a",
   "metadata": {},
   "outputs": [],
   "source": [
    "largest_number = lst[0]  # 2 -> assumed first index contains largest number\n",
    "smallest_number = lst[0] # 2 -> "
   ]
  },
  {
   "cell_type": "code",
   "execution_count": 91,
   "id": "bff068e3-1849-4aa6-84a5-746d12b84e86",
   "metadata": {},
   "outputs": [
    {
     "data": {
      "text/plain": [
       "2"
      ]
     },
     "execution_count": 91,
     "metadata": {},
     "output_type": "execute_result"
    }
   ],
   "source": [
    "largest_number"
   ]
  },
  {
   "cell_type": "code",
   "execution_count": 93,
   "id": "1930338c-c13a-4d14-b73b-339e2403825f",
   "metadata": {},
   "outputs": [
    {
     "data": {
      "text/plain": [
       "2"
      ]
     },
     "execution_count": 93,
     "metadata": {},
     "output_type": "execute_result"
    }
   ],
   "source": [
    "smallest_number"
   ]
  },
  {
   "cell_type": "code",
   "execution_count": 168,
   "id": "883ce1b1-a86b-4826-81d4-67b8eaaa93ed",
   "metadata": {
    "scrolled": true
   },
   "outputs": [
    {
     "name": "stdout",
     "output_type": "stream",
     "text": [
      "Value of n 2\n",
      "Value of n 7\n",
      "Inside largest number fining block ----7> 2-True --\n",
      "---- Current largest number: 7\n",
      "Value of n 5\n",
      "Value of n 3\n",
      "Value of n 1\n",
      "Inside smallest number fining block -----1 < 2-True--\n",
      "---Current smallest number 1\n",
      "Value of n 9\n",
      "Inside largest number fining block ----9> 7-True --\n",
      "---- Current largest number: 9\n"
     ]
    }
   ],
   "source": [
    "largest_number = lst[0]  # 2 -> assumed first index contains largest number\n",
    "smallest_number = lst[0] # 2 -> \n",
    "for n in lst:\n",
    "    print('Value of n', n)\n",
    "    \n",
    "    if n>largest_number:\n",
    "        # do something\n",
    "        # 7>2  second iteration\n",
    "        print(f'Inside largest number fining block ----{n}> {largest_number}-{n>largest_number} --')\n",
    "        largest_number = n\n",
    "        print(f'---- Current largest number: {largest_number}')\n",
    "\n",
    "    if n<smallest_number:    \n",
    "        #do something\n",
    "        print(f'Inside smallest number fining block -----{n} < {smallest_number}-{n<smallest_number}--')\n",
    "        smallest_number=n\n",
    "        print(f'---Current smallest number { smallest_number}')\n",
    "\n"
   ]
  },
  {
   "cell_type": "code",
   "execution_count": 118,
   "id": "a0d7c640-fe46-46f6-a321-bb9c13fe586d",
   "metadata": {},
   "outputs": [
    {
     "data": {
      "text/plain": [
       "9"
      ]
     },
     "execution_count": 118,
     "metadata": {},
     "output_type": "execute_result"
    }
   ],
   "source": [
    "largest_number"
   ]
  },
  {
   "cell_type": "code",
   "execution_count": 160,
   "id": "38937631-5a61-49da-b94b-aac80731d353",
   "metadata": {},
   "outputs": [
    {
     "data": {
      "text/plain": [
       "1"
      ]
     },
     "execution_count": 160,
     "metadata": {},
     "output_type": "execute_result"
    }
   ],
   "source": [
    "smallest_number"
   ]
  },
  {
   "cell_type": "code",
   "execution_count": null,
   "id": "2e401524-f0a5-4154-9d28-6c1c3f099dcf",
   "metadata": {},
   "outputs": [],
   "source": [
    "[2] # largest and smallest "
   ]
  },
  {
   "cell_type": "code",
   "execution_count": 55,
   "id": "5b6fe54c-259a-4205-ad31-04e16a75eea5",
   "metadata": {
    "scrolled": true
   },
   "outputs": [
    {
     "ename": "TypeError",
     "evalue": "'list' object cannot be interpreted as an integer",
     "output_type": "error",
     "traceback": [
      "\u001b[1;31m---------------------------------------------------------------------------\u001b[0m",
      "\u001b[1;31mTypeError\u001b[0m                                 Traceback (most recent call last)",
      "Cell \u001b[1;32mIn[55], line 9\u001b[0m\n\u001b[0;32m      7\u001b[0m \u001b[38;5;66;03m# Example usage:\u001b[39;00m\n\u001b[0;32m      8\u001b[0m numbers \u001b[38;5;241m=\u001b[39m [\u001b[38;5;241m3\u001b[39m, \u001b[38;5;241m5\u001b[39m, \u001b[38;5;241m1\u001b[39m, \u001b[38;5;241m9\u001b[39m, \u001b[38;5;241m2\u001b[39m]\n\u001b[1;32m----> 9\u001b[0m largest, smallest \u001b[38;5;241m=\u001b[39m find_largest_smallest(numbers)\n\u001b[0;32m     10\u001b[0m \u001b[38;5;28mprint\u001b[39m(\u001b[38;5;124m\"\u001b[39m\u001b[38;5;124mLargest:\u001b[39m\u001b[38;5;124m\"\u001b[39m, largest)   \u001b[38;5;66;03m# Output: 9\u001b[39;00m\n\u001b[0;32m     11\u001b[0m \u001b[38;5;28mprint\u001b[39m(\u001b[38;5;124m\"\u001b[39m\u001b[38;5;124mSmallest:\u001b[39m\u001b[38;5;124m\"\u001b[39m, smallest)\n",
      "Cell \u001b[1;32mIn[55], line 4\u001b[0m, in \u001b[0;36mfind_largest_smallest\u001b[1;34m(numbers)\u001b[0m\n\u001b[0;32m      1\u001b[0m \u001b[38;5;28;01mdef\u001b[39;00m \u001b[38;5;21mfind_largest_smallest\u001b[39m(numbers):\n\u001b[0;32m      2\u001b[0m     lst \u001b[38;5;241m=\u001b[39m []\n\u001b[1;32m----> 4\u001b[0m     \u001b[38;5;28;01mfor\u001b[39;00m n \u001b[38;5;129;01min\u001b[39;00m \u001b[38;5;28mrange\u001b[39m(numbers):\n\u001b[0;32m      5\u001b[0m         numbers \u001b[38;5;241m=\u001b[39m \u001b[38;5;28mint\u001b[39m(\u001b[38;5;28minput\u001b[39m(\u001b[38;5;124m'\u001b[39m\u001b[38;5;124mEnter number \u001b[39m\u001b[38;5;124m'\u001b[39m))\n\u001b[0;32m      6\u001b[0m         lst\u001b[38;5;241m.\u001b[39mappend(numbers)\n",
      "\u001b[1;31mTypeError\u001b[0m: 'list' object cannot be interpreted as an integer"
     ]
    }
   ],
   "source": [
    "def find_largest_smallest(numbers):\n",
    "    l_lst=[]\n",
    "    s_lst=[]\n",
    "    for l_s in numbers:\n",
    "        if l_s/10<=1:\n",
    "        \n",
    "        else:\n",
    "            l_s/10\n",
    "        \n",
    "# Example usage:\n",
    "numbers = [3, 5, 1, 9, 2]\n",
    "largest, smallest = find_largest_smallest(numbers)\n",
    "print(\"Largest:\", largest)   # Output: 9\n",
    "print(\"Smallest:\", smallest) # Output: 1"
   ]
  },
  {
   "cell_type": "code",
   "execution_count": 66,
   "id": "753ae71a-68b4-4dea-910c-0e8a0a8240cd",
   "metadata": {},
   "outputs": [],
   "source": [
    "def remove_duplicates(lst):\n",
    "    dupli = []\n",
    "    for num in lst:\n",
    "        if num not in dupli:\n",
    "            dupli.append(num)\n",
    "    return dupli\n",
    "\n"
   ]
  },
  {
   "cell_type": "code",
   "execution_count": 68,
   "id": "999d6112-33a4-497b-a5f6-494a269a7a41",
   "metadata": {},
   "outputs": [
    {
     "data": {
      "text/plain": [
       "[1, 2, 3, 4, 5]"
      ]
     },
     "execution_count": 68,
     "metadata": {},
     "output_type": "execute_result"
    }
   ],
   "source": [
    "lst = [1, 2, 3, 2, 1, 4, 5, 4]\n",
    "remove_duplicates(lst)"
   ]
  },
  {
   "cell_type": "code",
   "execution_count": 72,
   "id": "45bfbe3a-97b0-4ec8-8a15-d31543fb36c5",
   "metadata": {},
   "outputs": [
    {
     "name": "stdout",
     "output_type": "stream",
     "text": [
      "[1, 2, 3, 4, 5, 6, 7, 8, 9]\n"
     ]
    }
   ],
   "source": [
    "def flatten_list(nested_lst):\n",
    "    flat_list = []\n",
    "    for sublist in nested_lst:\n",
    "        for num in sublist:\n",
    "            flat_list.append(num)\n",
    "    return flat_list\n",
    "nested_lst = [[1, 2, 3], [4, 5], [6, 7, 8, 9]]\n",
    "print(flatten_list(nested_lst))"
   ]
  },
  {
   "cell_type": "code",
   "execution_count": 210,
   "id": "05a08983-db76-48e0-9666-723d0eb69a33",
   "metadata": {},
   "outputs": [],
   "source": [
    "def find_largest_smallest(lst1):\n",
    "    largest_number = lst1[0] \n",
    "    smallest_number = lst1[0]\n",
    "    for n in lst:\n",
    "        print('Value of n', n)\n",
    "    \n",
    "        if n>largest_number:\n",
    "            # do something\n",
    "            # 7>2  second iteration\n",
    "            print(f'Inside largest number fining block ----{n}> {largest_number}-{n>largest_number} --')\n",
    "            largest_number = n\n",
    "            print(f'---- Current largest number: {largest_number}')\n",
    "\n",
    "        if n<smallest_number:    \n",
    "            #do something\n",
    "            print(f'Inside smallest number fining block -----{n} < {smallest_number}-{n<smallest_number}--')\n",
    "            smallest_number=n\n",
    "            print(f'---Current smallest number { smallest_number}')\n",
    "    return largest_number, smallest_number\n",
    "lst1=[10, 2, 3, 8, 11, 1, 3, 0]"
   ]
  },
  {
   "cell_type": "code",
   "execution_count": 212,
   "id": "1c6aebaf-4d63-4b85-9a0a-175a3a0f46c1",
   "metadata": {
    "scrolled": true
   },
   "outputs": [
    {
     "name": "stdout",
     "output_type": "stream",
     "text": [
      "Value of n 1\n",
      "Inside smallest number fining block -----1 < 10-True--\n",
      "---Current smallest number 1\n",
      "Value of n 2\n",
      "Value of n 3\n",
      "Value of n 8\n",
      "Value of n 11\n",
      "Inside largest number fining block ----11> 10-True --\n",
      "---- Current largest number: 11\n",
      "Value of n 1\n",
      "Value of n 3\n",
      "Value of n 0\n",
      "Inside smallest number fining block -----0 < 1-True--\n",
      "---Current smallest number 0\n"
     ]
    },
    {
     "data": {
      "text/plain": [
       "(11, 0)"
      ]
     },
     "execution_count": 212,
     "metadata": {},
     "output_type": "execute_result"
    }
   ],
   "source": [
    "find_largest_smallest(lst1)"
   ]
  },
  {
   "cell_type": "code",
   "execution_count": 214,
   "id": "a622cd02-474e-45b8-a1bc-bd9d6e718a06",
   "metadata": {},
   "outputs": [
    {
     "data": {
      "text/plain": [
       "9"
      ]
     },
     "execution_count": 214,
     "metadata": {},
     "output_type": "execute_result"
    }
   ],
   "source": [
    "largest_number"
   ]
  },
  {
   "cell_type": "code",
   "execution_count": 216,
   "id": "c7a2b7a1-1662-4742-8f96-6c80b7d30775",
   "metadata": {},
   "outputs": [
    {
     "data": {
      "text/plain": [
       "1"
      ]
     },
     "execution_count": 216,
     "metadata": {},
     "output_type": "execute_result"
    }
   ],
   "source": [
    "smallest_number"
   ]
  },
  {
   "cell_type": "code",
   "execution_count": 218,
   "id": "80f7e8c9-975e-4f05-ba4b-913a66181284",
   "metadata": {},
   "outputs": [],
   "source": [
    "largest_number, smallest_number = (3,4)"
   ]
  },
  {
   "cell_type": "code",
   "execution_count": 220,
   "id": "400b7923-cc2c-4ca6-9c7e-459aa15fc489",
   "metadata": {},
   "outputs": [
    {
     "data": {
      "text/plain": [
       "3"
      ]
     },
     "execution_count": 220,
     "metadata": {},
     "output_type": "execute_result"
    }
   ],
   "source": [
    "largest_number"
   ]
  },
  {
   "cell_type": "code",
   "execution_count": 222,
   "id": "93ecf191-44bb-4d27-b4ea-b4ea3bd2ccb1",
   "metadata": {},
   "outputs": [
    {
     "data": {
      "text/plain": [
       "4"
      ]
     },
     "execution_count": 222,
     "metadata": {},
     "output_type": "execute_result"
    }
   ],
   "source": [
    "smallest_number"
   ]
  },
  {
   "cell_type": "code",
   "execution_count": 46,
   "id": "8a14f974-2c01-4949-9260-f68916891983",
   "metadata": {},
   "outputs": [],
   "source": [
    "def find_largest_smallest(lst):\n",
    "    largest_number = lst[0] \n",
    "    smallest_number = lst[0]\n",
    "    for n in lst:\n",
    "        if n>largest_number:\n",
    "        \n",
    "            largest_number = n\n",
    "\n",
    "        if n<smallest_number:    \n",
    "            smallest_number=n\n",
    "    return largest_number\n",
    "lst1=[10, 2, 3, 8, 11, 1, 3]"
   ]
  },
  {
   "cell_type": "code",
   "execution_count": 48,
   "id": "3aa00a0d-549b-4b7f-b8d1-5569dc95682c",
   "metadata": {},
   "outputs": [
    {
     "data": {
      "text/plain": [
       "11"
      ]
     },
     "execution_count": 48,
     "metadata": {},
     "output_type": "execute_result"
    }
   ],
   "source": [
    "find_largest_smallest(lst1)"
   ]
  },
  {
   "cell_type": "code",
   "execution_count": 238,
   "id": "61f2c2f2-77f2-482b-bcb3-a51284178576",
   "metadata": {},
   "outputs": [],
   "source": [
    "# largest_number, smallest_number = (11,0)\n",
    "largest_number, smallest_number = find_largest_smallest(lst1)\n"
   ]
  },
  {
   "cell_type": "code",
   "execution_count": 240,
   "id": "82fa8471-1284-47f2-acc3-1e1e04c4aac7",
   "metadata": {},
   "outputs": [
    {
     "data": {
      "text/plain": [
       "11"
      ]
     },
     "execution_count": 240,
     "metadata": {},
     "output_type": "execute_result"
    }
   ],
   "source": [
    "largest_number"
   ]
  },
  {
   "cell_type": "code",
   "execution_count": 242,
   "id": "9298621f-e028-4497-8d09-c0cb90cb4b72",
   "metadata": {},
   "outputs": [
    {
     "data": {
      "text/plain": [
       "0"
      ]
     },
     "execution_count": 242,
     "metadata": {},
     "output_type": "execute_result"
    }
   ],
   "source": [
    "smallest_number"
   ]
  },
  {
   "cell_type": "code",
   "execution_count": 78,
   "id": "38a9606d-da77-4659-8eb3-2b3d8d9c121a",
   "metadata": {},
   "outputs": [],
   "source": [
    "def larg(lst):\n",
    "    sorted=[]\n",
    "    smallest_number = lst1[0]\n",
    "    for n in lst:\n",
    "        if n<smallest_number:    \n",
    "            smallest_number=n\n",
    "            sorted.append(smallest_number)\n",
    "    return sorted\n",
    "lst=[2,3,5,6,44,21]"
   ]
  },
  {
   "cell_type": "code",
   "execution_count": 94,
   "id": "db5551f1-4466-4b5f-bbb5-3e566811a7d5",
   "metadata": {},
   "outputs": [
    {
     "data": {
      "text/plain": [
       "[10, 2, 3, 8, 11, 1, 3]"
      ]
     },
     "execution_count": 94,
     "metadata": {},
     "output_type": "execute_result"
    }
   ],
   "source": [
    "lst1"
   ]
  },
  {
   "cell_type": "code",
   "execution_count": 96,
   "id": "94046ba6-e327-42f8-afcd-902a45476875",
   "metadata": {},
   "outputs": [],
   "source": [
    "lst1.remove(3)"
   ]
  },
  {
   "cell_type": "code",
   "execution_count": 102,
   "id": "033de39f-9602-4ba5-8a48-2fac116f5418",
   "metadata": {},
   "outputs": [
    {
     "name": "stdout",
     "output_type": "stream",
     "text": [
      "0\n",
      "0\n"
     ]
    },
    {
     "ename": "ValueError",
     "evalue": "list.remove(x): x not in list",
     "output_type": "error",
     "traceback": [
      "\u001b[1;31m---------------------------------------------------------------------------\u001b[0m",
      "\u001b[1;31mValueError\u001b[0m                                Traceback (most recent call last)",
      "Cell \u001b[1;32mIn[102], line 19\u001b[0m\n\u001b[0;32m     16\u001b[0m         lst1\u001b[38;5;241m.\u001b[39mremove(smallest_number)\n\u001b[0;32m     17\u001b[0m lst1\u001b[38;5;241m=\u001b[39m[\u001b[38;5;241m10\u001b[39m, \u001b[38;5;241m2\u001b[39m, \u001b[38;5;241m3\u001b[39m, \u001b[38;5;241m8\u001b[39m, \u001b[38;5;241m11\u001b[39m, \u001b[38;5;241m1\u001b[39m, \u001b[38;5;241m3\u001b[39m, \u001b[38;5;241m0\u001b[39m]\n\u001b[1;32m---> 19\u001b[0m \u001b[38;5;28mprint\u001b[39m(find_largest_smallest(lst1))\n",
      "Cell \u001b[1;32mIn[102], line 16\u001b[0m, in \u001b[0;36mfind_largest_smallest\u001b[1;34m(lst1)\u001b[0m\n\u001b[0;32m     12\u001b[0m \u001b[38;5;28mprint\u001b[39m(smallest_number)\n\u001b[0;32m     14\u001b[0m \u001b[38;5;66;03m#sorted_list.append(smallest_number[0])\u001b[39;00m\n\u001b[0;32m     15\u001b[0m  \u001b[38;5;66;03m#remove the value from actual list\u001b[39;00m\n\u001b[1;32m---> 16\u001b[0m lst1\u001b[38;5;241m.\u001b[39mremove(smallest_number)\n",
      "\u001b[1;31mValueError\u001b[0m: list.remove(x): x not in list"
     ]
    }
   ],
   "source": [
    "sorted_list = []\n",
    "def find_largest_smallest(lst1):\n",
    "    largest_number = lst1[0] \n",
    "    smallest_number = lst1[0]\n",
    "    number_of_iteration = len(lst1)-1\n",
    "    # for i in range(number_of_iteration):\n",
    "    while lst1:\n",
    "        for n in lst1:\n",
    "            if n<smallest_number:    \n",
    "                smallest_number=n\n",
    "         #append the value into sorted list\n",
    "        print(smallest_number)\n",
    "        \n",
    "        #sorted_list.append(smallest_number[0])\n",
    "         #remove the value from actual list\n",
    "        lst1.remove(smallest_number)\n",
    "lst1=[10, 2, 3, 8, 11, 1, 3, 0]\n",
    "\n",
    "print(find_largest_smallest(lst1))\n"
   ]
  },
  {
   "cell_type": "code",
   "execution_count": 104,
   "id": "43fc080d-aa2a-40fa-b407-d301872d14a1",
   "metadata": {},
   "outputs": [
    {
     "data": {
      "text/plain": [
       "[2]"
      ]
     },
     "execution_count": 104,
     "metadata": {},
     "output_type": "execute_result"
    }
   ],
   "source": [
    "larg(lst)"
   ]
  },
  {
   "cell_type": "code",
   "execution_count": 3,
   "id": "0bccd1a3-4d5f-4804-b453-c7473b59e14b",
   "metadata": {},
   "outputs": [],
   "source": [
    "def small(lst):\n",
    "    smallest_number = lst[0]\n",
    "    for n in lst:\n",
    "            if n<smallest_number:    \n",
    "                smallest_number=n\n",
    "    return smallest_number\n",
    "\n",
    "\n",
    "lst=[3,5,4,67,2,7]"
   ]
  },
  {
   "cell_type": "code",
   "execution_count": 96,
   "id": "3784307c-ccfa-4c92-87e8-b8f9cad96890",
   "metadata": {},
   "outputs": [
    {
     "name": "stdout",
     "output_type": "stream",
     "text": [
      "<function small at 0x0000024C291C9800>\n"
     ]
    }
   ],
   "source": [
    "small(lst)"
   ]
  },
  {
   "cell_type": "code",
   "execution_count": 82,
   "id": "5fabbe57-bf9f-4813-8270-4109556585c9",
   "metadata": {},
   "outputs": [
    {
     "name": "stdout",
     "output_type": "stream",
     "text": [
      "2\n",
      "[2]\n",
      "3\n",
      "[2, 3]\n",
      "4\n",
      "[2, 3, 4]\n",
      "5\n",
      "[2, 3, 4, 5]\n",
      "7\n",
      "[2, 3, 4, 5, 7]\n",
      "67\n",
      "[2, 3, 4, 5, 7, 67]\n"
     ]
    }
   ],
   "source": [
    "lst=[3,5,4,67,2,7]\n",
    "sorted_list = []\n",
    "while lst:\n",
    "    sm = small(lst)\n",
    "    print(sm)\n",
    "    sorted_list.append(sm)\n",
    "    lst.remove(sm)\n",
    "    print(sorted_list)"
   ]
  },
  {
   "cell_type": "code",
   "execution_count": 7,
   "id": "09cde4f0-5e12-46b5-bd85-8a398db30b12",
   "metadata": {},
   "outputs": [
    {
     "data": {
      "text/plain": [
       "[2, 3, 4, 5, 7, 67]"
      ]
     },
     "execution_count": 7,
     "metadata": {},
     "output_type": "execute_result"
    }
   ],
   "source": [
    "sorted_list"
   ]
  },
  {
   "cell_type": "code",
   "execution_count": 7,
   "id": "1af1d0ae-11f6-40d1-849f-ce81f0256748",
   "metadata": {},
   "outputs": [
    {
     "name": "stdout",
     "output_type": "stream",
     "text": [
      "2\n",
      "remaining list [3, 5, 4, 6, 8, 9, 10]\n",
      "sorted list [2]\n",
      "3\n",
      "remaining list [5, 4, 6, 8, 9, 10]\n",
      "sorted list [2, 3]\n",
      "4\n",
      "remaining list [5, 6, 8, 9, 10]\n",
      "sorted list [2, 3, 4]\n",
      "5\n",
      "remaining list [6, 8, 9, 10]\n",
      "sorted list [2, 3, 4, 5]\n",
      "6\n",
      "remaining list [8, 9, 10]\n",
      "sorted list [2, 3, 4, 5, 6]\n",
      "8\n",
      "remaining list [9, 10]\n",
      "sorted list [2, 3, 4, 5, 6, 8]\n",
      "9\n",
      "remaining list [10]\n",
      "sorted list [2, 3, 4, 5, 6, 8, 9]\n",
      "10\n",
      "remaining list []\n",
      "sorted list [2, 3, 4, 5, 6, 8, 9, 10]\n"
     ]
    }
   ],
   "source": [
    "lst=[3,5,2,4,6,8,9,10]\n",
    "\n",
    "def small(lst):\n",
    "    smallest_number = lst[0]\n",
    "    for n in lst:\n",
    "            if n<smallest_number:    \n",
    "                smallest_number=n\n",
    "    return smallest_number\n",
    "sorted_list = []\n",
    "for i in range(len(lst)):\n",
    "    sm = small(lst)\n",
    "  \n",
    "    sorted_list.append(sm)\n",
    "    print(sm)\n",
    "    lst.remove(sm)\n",
    "    print('remaining list', lst)\n",
    "    print('sorted list', sorted_list)"
   ]
  },
  {
   "cell_type": "code",
   "execution_count": 13,
   "id": "c513cb46-ddcd-45c2-a968-53cb952b973f",
   "metadata": {},
   "outputs": [
    {
     "name": "stdout",
     "output_type": "stream",
     "text": [
      "2\n",
      "remaining list [3, 5, 4, 6, 8, 9, 10]\n",
      "sorted list [2]\n",
      "3\n",
      "remaining list [5, 4, 6, 8, 9, 10]\n",
      "sorted list [2, 3]\n",
      "4\n",
      "remaining list [5, 6, 8, 9, 10]\n",
      "sorted list [2, 3, 4]\n",
      "5\n",
      "remaining list [6, 8, 9, 10]\n",
      "sorted list [2, 3, 4, 5]\n",
      "6\n",
      "remaining list [8, 9, 10]\n",
      "sorted list [2, 3, 4, 5, 6]\n",
      "8\n",
      "remaining list [9, 10]\n",
      "sorted list [2, 3, 4, 5, 6, 8]\n",
      "9\n",
      "remaining list [10]\n",
      "sorted list [2, 3, 4, 5, 6, 8, 9]\n",
      "10\n",
      "remaining list []\n",
      "sorted list [2, 3, 4, 5, 6, 8, 9, 10]\n"
     ]
    }
   ],
   "source": [
    "lst=[3,5,2,4,6,8,9,10]\n",
    "\n",
    "\n",
    "sorted_list = []\n",
    "for i in range(len(lst)) :# range(10)\n",
    "    sm = small(lst)\n",
    "  \n",
    "    sorted_list.append(sm)\n",
    "    print(sm)\n",
    "    lst.remove(sm)\n",
    "    print('remaining list', lst)\n",
    "    print('sorted list', sorted_list)"
   ]
  },
  {
   "cell_type": "code",
   "execution_count": 9,
   "id": "63ed4d68-a6be-4d87-9b8a-296fec5ed166",
   "metadata": {},
   "outputs": [
    {
     "name": "stdout",
     "output_type": "stream",
     "text": [
      " value of 0 index  3\n",
      " value of 1 index  2\n",
      " value of 2 index  4\n",
      " value of 3 index  5\n",
      " value of 4 index  1\n",
      " value of 5 index  6\n",
      " value of 6 index  8\n",
      " value of 7 index  9\n",
      " value of 8 index  10\n"
     ]
    },
    {
     "data": {
      "text/plain": [
       "[1, 2, 3, 4, 5, 6, 8, 9, 10]"
      ]
     },
     "execution_count": 9,
     "metadata": {},
     "output_type": "execute_result"
    }
   ],
   "source": [
    "lst=[3,5,2,4,6,8,9,10,1]\n",
    "list_length = len(lst)\n",
    "for i in range(list_length):\n",
    "    print(f' value of {i} index ', lst[i])\n",
    "    number_of_comparison = list_length - 1\n",
    "    for j in range(number_of_comparison):\n",
    "        if lst[j] > lst[j+1]:\n",
    "            lst[j+1],lst[j] = lst[j] ,lst[j+1] \n",
    "            \n",
    "            \n",
    "    number_of_comparison = number_of_comparison - 1  \n",
    "lst"
   ]
  },
  {
   "cell_type": "code",
   "execution_count": 17,
   "id": "0247593e-8b72-4e18-b5b6-fc2e58f55650",
   "metadata": {},
   "outputs": [
    {
     "name": "stdout",
     "output_type": "stream",
     "text": [
      "2\n",
      "remaining list [3, 5, 4, 6, 8, 9, 10]\n",
      "sorted list [2]\n",
      "3\n",
      "remaining list [5, 4, 6, 8, 9, 10]\n",
      "sorted list [2, 3]\n",
      "4\n",
      "remaining list [5, 6, 8, 9, 10]\n",
      "sorted list [2, 3, 4]\n",
      "5\n",
      "remaining list [6, 8, 9, 10]\n",
      "sorted list [2, 3, 4, 5]\n"
     ]
    }
   ],
   "source": [
    "lst=[3,5,2,4,6,8,9,10]\n",
    "\n",
    "\n",
    "sorted_list = []\n",
    "for i in lst :# range(10)\n",
    "    sm = small(lst)\n",
    "  \n",
    "    sorted_list.append(sm)\n",
    "    print(sm)\n",
    "    lst.remove(sm)\n",
    "    print('remaining list', lst)\n",
    "    print('sorted list', sorted_list)"
   ]
  },
  {
   "cell_type": "code",
   "execution_count": null,
   "id": "5b58e2a2-8d38-429f-95c1-7241f913c43d",
   "metadata": {},
   "outputs": [],
   "source": []
  }
 ],
 "metadata": {
  "kernelspec": {
   "display_name": "Python 3 (ipykernel)",
   "language": "python",
   "name": "python3"
  },
  "language_info": {
   "codemirror_mode": {
    "name": "ipython",
    "version": 3
   },
   "file_extension": ".py",
   "mimetype": "text/x-python",
   "name": "python",
   "nbconvert_exporter": "python",
   "pygments_lexer": "ipython3",
   "version": "3.12.4"
  }
 },
 "nbformat": 4,
 "nbformat_minor": 5
}
