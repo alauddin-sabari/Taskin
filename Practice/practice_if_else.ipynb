{
 "cells": [
  {
   "cell_type": "code",
   "execution_count": 11,
   "id": "12889c8b-28c4-48d5-b915-15a1fd5626d9",
   "metadata": {},
   "outputs": [],
   "source": [
    "def table_size(num_of_adults,num_of_kids):\n",
    "    size=num_of_adults+num_of_kids\n",
    "    if size<=4:\n",
    "        print(f'you need a table for 4')\n",
    "    elif size<=8:\n",
    "        print(f'you need a table for 8')\n",
    "    else:\n",
    "        print(f'you can take as many and chairs as you need')"
   ]
  },
  {
   "cell_type": "code",
   "execution_count": 13,
   "id": "5028823c-73bd-4c64-abfb-fc82d9d600c0",
   "metadata": {},
   "outputs": [
    {
     "name": "stdout",
     "output_type": "stream",
     "text": [
      "you can take as many and chairs as you need\n"
     ]
    }
   ],
   "source": [
    "table_size(7,778967687586568867)"
   ]
  },
  {
   "cell_type": "code",
   "execution_count": null,
   "id": "fa128c21-ffd5-46d8-950d-c6a49a0c605b",
   "metadata": {},
   "outputs": [],
   "source": [
    "holiday_options=['dhaka','londan','england','uk','bd','usa']\n",
    "were_im_going=input(f'where do you wanna go')\n",
    "\n",
    "    \n",
    "for h_o in holiday_options:\n",
    "    print(h_o)\n",
    "    \n",
    "    if h_o in were_im_going:\n",
    "        print(f'your search has been found')\n",
    "    else:\n",
    "         print(f'your search was not found')"
   ]
  },
  {
   "cell_type": "code",
   "execution_count": null,
   "id": "a31b5f5c-237f-4286-8f45-f4e848eed837",
   "metadata": {},
   "outputs": [],
   "source": []
  }
 ],
 "metadata": {
  "kernelspec": {
   "display_name": "Python 3 (ipykernel)",
   "language": "python",
   "name": "python3"
  },
  "language_info": {
   "codemirror_mode": {
    "name": "ipython",
    "version": 3
   },
   "file_extension": ".py",
   "mimetype": "text/x-python",
   "name": "python",
   "nbconvert_exporter": "python",
   "pygments_lexer": "ipython3",
   "version": "3.12.4"
  }
 },
 "nbformat": 4,
 "nbformat_minor": 5
}
