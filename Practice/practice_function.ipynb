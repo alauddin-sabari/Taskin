{
 "cells": [
  {
   "cell_type": "code",
   "execution_count": 4,
   "id": "6a872f57-dfec-4425-8623-b70cb7a7d62e",
   "metadata": {},
   "outputs": [],
   "source": [
    "def table_size(num_of_adults,num_of_kids):\n",
    "    size=num_of_adults+num_of_kids\n",
    "    if size<=4:\n",
    "        print(f'you need a table for 4')\n",
    "    elif size<=8:\n",
    "        print(f'you need a table for 8')\n",
    "    else:\n",
    "        print(f'you can take as many and chairs as you need')\n",
    "    \n",
    "    "
   ]
  },
  {
   "cell_type": "code",
   "execution_count": 17,
   "id": "00bf8fea-0beb-4631-bdd3-885c809bf099",
   "metadata": {},
   "outputs": [
    {
     "name": "stdout",
     "output_type": "stream",
     "text": [
      "you can take as many and chairs as you need\n"
     ]
    }
   ],
   "source": [
    "table_size(9,4)"
   ]
  },
  {
   "cell_type": "code",
   "execution_count": null,
   "id": "f4b6c537-e421-4cad-8c69-7c49a6e21ea9",
   "metadata": {},
   "outputs": [],
   "source": []
  }
 ],
 "metadata": {
  "kernelspec": {
   "display_name": "Python 3 (ipykernel)",
   "language": "python",
   "name": "python3"
  },
  "language_info": {
   "codemirror_mode": {
    "name": "ipython",
    "version": 3
   },
   "file_extension": ".py",
   "mimetype": "text/x-python",
   "name": "python",
   "nbconvert_exporter": "python",
   "pygments_lexer": "ipython3",
   "version": "3.12.4"
  }
 },
 "nbformat": 4,
 "nbformat_minor": 5
}
