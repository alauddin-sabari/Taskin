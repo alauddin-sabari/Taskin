{
 "cells": [
  {
   "cell_type": "code",
   "execution_count": 4,
   "id": "17d86df1-3e2b-40a1-9f48-95a1a682f086",
   "metadata": {},
   "outputs": [
    {
     "name": "stdout",
     "output_type": "stream",
     "text": [
      "dhaka\n",
      "your search was not found\n",
      "londan\n",
      "your search has been found\n",
      "england\n",
      "your search has been found\n",
      "uk\n",
      "your search has been found\n",
      "bd\n",
      "your search was not found\n",
      "usa\n",
      "your search was not found\n"
     ]
    }
   ],
   "source": [
    "holiday_options=['dhaka','londan','england','uk','bd','usa']\n",
    "\n",
    "\n",
    "    \n",
    "for h_o in holiday_options:\n",
    "    print(h_o)\n",
    "    \n",
    "    if h_o in were_im_going:\n",
    "        print(f'your search has been found')\n",
    "    else:\n",
    "         print(f'your search was not found')"
   ]
  },
  {
   "cell_type": "raw",
   "id": "75b5c732-ca97-4738-a8ac-b208e6a957de",
   "metadata": {},
   "source": [
    "holiday('dhaka')"
   ]
  },
  {
   "cell_type": "code",
   "execution_count": null,
   "id": "5b16ec0e-9618-4e40-8c4b-46d0678afbec",
   "metadata": {},
   "outputs": [],
   "source": [
    "holiday_options=['dhaka','londan','england','uk','bd','usa']\n",
    "europe=['uk','england','londan']\n",
    "were_im_going =  str(input('where do you wanna go'))\n",
    "\n",
    "    \n",
    "for h_o in holiday_options:\n",
    "    print(h_o)\n",
    "    \n",
    "    if h_o in were_im_going:\n",
    "        print(f'your search has been found')\n",
    "    else:\n",
    "         print(f'your search was not found')"
   ]
  },
  {
   "cell_type": "code",
   "execution_count": 1,
   "id": "43ddda23-5a0a-41d0-9959-837eba26c785",
   "metadata": {},
   "outputs": [
    {
     "name": "stdout",
     "output_type": "stream",
     "text": [
      "dhaka\n",
      "your search was not found\n",
      "londan\n",
      "your search has been found\n",
      "england\n",
      "your search has been found\n",
      "uk\n",
      "your search has been found\n",
      "bd\n",
      "your search was not found\n",
      "usa\n",
      "your search was not found\n"
     ]
    }
   ],
   "source": [
    "holiday_options=['dhaka','londan','england','uk','bd','usa']\n",
    "were_im_going =['uk','england','londan']\n",
    " \n",
    "    \n",
    "for h_o in holiday_options:\n",
    "    print(h_o)\n",
    "    \n",
    "    if h_o in were_im_going:\n",
    "        print(f'your search has been found')\n",
    "    else:\n",
    "         print(f'your search was not found')"
   ]
  },
  {
   "cell_type": "code",
   "execution_count": null,
   "id": "19b90421-fd92-4916-b3f4-0d6501772c17",
   "metadata": {},
   "outputs": [],
   "source": []
  }
 ],
 "metadata": {
  "kernelspec": {
   "display_name": "Python 3 (ipykernel)",
   "language": "python",
   "name": "python3"
  },
  "language_info": {
   "codemirror_mode": {
    "name": "ipython",
    "version": 3
   },
   "file_extension": ".py",
   "mimetype": "text/x-python",
   "name": "python",
   "nbconvert_exporter": "python",
   "pygments_lexer": "ipython3",
   "version": "3.12.4"
  }
 },
 "nbformat": 4,
 "nbformat_minor": 5
}
