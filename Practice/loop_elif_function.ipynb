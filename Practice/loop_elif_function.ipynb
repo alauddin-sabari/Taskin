{
 "cells": [
  {
   "cell_type": "code",
   "execution_count": 78,
   "id": "d237faad-1c7b-4f82-bcca-4ce3887c2864",
   "metadata": {},
   "outputs": [],
   "source": [
    "pizza_toppings = ['extra cheese','salami','chicken','bell-pepper','peppers']\n",
    "pizza_size =['small','middium','large']\n",
    "\n",
    "def pizza(order,size):\n",
    "    lst=[]\n",
    "    for lst1 in pizza_toppings:\n",
    "        if order in lst1:\n",
    "            lst.append(order)\n",
    "    for lst2 in pizza_size:\n",
    "        if size in lst2:\n",
    "            lst.append(size)\n",
    "            print(f'so you ordered a pizza with {lst[0]} as a size {lst[1]}')\n",
    "        \n",
    "    "
   ]
  },
  {
   "cell_type": "code",
   "execution_count": 80,
   "id": "ccc69ad4-1ad5-46d8-8762-1b472deadaa7",
   "metadata": {},
   "outputs": [
    {
     "name": "stdout",
     "output_type": "stream",
     "text": [
      "so you ordered a pizza with salami as a size small\n"
     ]
    }
   ],
   "source": [
    "pizza('salami','small')"
   ]
  },
  {
   "cell_type": "code",
   "execution_count": 33,
   "id": "035d3c53-fc7c-462d-9486-d0eaf8a91bab",
   "metadata": {},
   "outputs": [
    {
     "name": "stdout",
     "output_type": "stream",
     "text": [
      "['extra cheese', 'salami', 'chicken', 'bell-pepper', 'peppers']\n"
     ]
    }
   ],
   "source": [
    "print(pizza_toppings)"
   ]
  },
  {
   "cell_type": "code",
   "execution_count": 73,
   "id": "bd8d98f8-a2c4-492f-b655-8146910ccca7",
   "metadata": {},
   "outputs": [],
   "source": [
    "importent_things=['shirt','t-shirt','sun-screen','money']\n",
    "def packing(took):\n",
    "    lst=[]\n",
    "    for i_lst1 in importent_things:\n",
    "        if took in i_lst1:\n",
    "            lst.append(took)\n",
    "            print(f'good work for taking {took}')\n",
    "       \n",
    "            \n",
    "            "
   ]
  },
  {
   "cell_type": "code",
   "execution_count": 75,
   "id": "ecc94bc4-cc75-4684-981c-32dce3735f7c",
   "metadata": {},
   "outputs": [
    {
     "name": "stdout",
     "output_type": "stream",
     "text": [
      "good work for taking money\n"
     ]
    }
   ],
   "source": [
    "\n",
    "packing('money')"
   ]
  },
  {
   "cell_type": "code",
   "execution_count": 17,
   "id": "fafe3b60-afae-4cec-907c-583a4fce18e2",
   "metadata": {},
   "outputs": [],
   "source": [
    "gen1=['Gen X','Millennials','Gen Z','Gen Alpha']\n",
    "def gen (yob):\n",
    "    age =2024-yob\n",
    "    if 1965<yob<1980:\n",
    "        print(f'your are from {gen1[0]} and you are {age}')\n",
    "\n",
    "    elif 1981<yob<1996:\n",
    "        print(f'your are from {gen1[1]} and you are {age}')\n",
    "    elif 1997<yob<2012:\n",
    "        print(f'your are from {gen1[2]} and you are {age}')\n",
    "\n",
    "    elif 2013<yob<2025:\n",
    "        print(f'your are from {gen1[3]}, you are really young and you are {age}')\n",
    "\n",
    "\n",
    "    \n"
   ]
  },
  {
   "cell_type": "code",
   "execution_count": 15,
   "id": "51e0b527-290e-492a-8891-8bc688f12a41",
   "metadata": {},
   "outputs": [
    {
     "name": "stdout",
     "output_type": "stream",
     "text": [
      "your are from Gen Alpha, you are really young and you are 10\n"
     ]
    }
   ],
   "source": [
    "gen(2014)"
   ]
  },
  {
   "cell_type": "code",
   "execution_count": null,
   "id": "762a681c-d7df-4625-b640-208639e2890e",
   "metadata": {},
   "outputs": [],
   "source": [
    "gen1=['Gen X','Millennials','Gen Z','Gen Alpha']\n",
    "def age_gen ():\n",
    "    age =2024-yob\n",
    "    if 1965<yob<1980:\n",
    "        print(f'your are from {gen1[0]} and you are {age}')\n",
    "\n",
    "    elif 1981<yob<1996:\n",
    "        print(f'your are from {gen1[1]} and you are {age}')\n",
    "    elif 1997<yob<2012:\n",
    "        print(f'your are from {gen1[2]} and you are {age}')\n",
    "\n",
    "    elif 2013<yob<2025:\n",
    "        print(f'your are from {gen1[3]}, you are really young and you are {age}')"
   ]
  }
 ],
 "metadata": {
  "kernelspec": {
   "display_name": "Python 3 (ipykernel)",
   "language": "python",
   "name": "python3"
  },
  "language_info": {
   "codemirror_mode": {
    "name": "ipython",
    "version": 3
   },
   "file_extension": ".py",
   "mimetype": "text/x-python",
   "name": "python",
   "nbconvert_exporter": "python",
   "pygments_lexer": "ipython3",
   "version": "3.12.4"
  }
 },
 "nbformat": 4,
 "nbformat_minor": 5
}
